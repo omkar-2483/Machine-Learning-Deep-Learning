{
 "cells": [
  {
   "cell_type": "markdown",
   "id": "54f23cd4-ff34-433b-ab83-dd8d8277cedf",
   "metadata": {},
   "source": [
    "# numpy"
   ]
  },
  {
   "cell_type": "code",
   "execution_count": 1,
   "id": "19d3250b-fc15-48da-9945-0bc9caaf232f",
   "metadata": {},
   "outputs": [],
   "source": [
    "import numpy as np"
   ]
  },
  {
   "cell_type": "code",
   "execution_count": 2,
   "id": "8e9c3523-980a-4da5-a81c-f4c97ae2840a",
   "metadata": {},
   "outputs": [],
   "source": [
    "arr=np.array([1,2,3,4,5])"
   ]
  },
  {
   "cell_type": "code",
   "execution_count": 3,
   "id": "f5bccbe6-d939-431b-91a8-6452f1472100",
   "metadata": {},
   "outputs": [
    {
     "data": {
      "text/plain": [
       "array([1, 2, 3, 4, 5])"
      ]
     },
     "execution_count": 3,
     "metadata": {},
     "output_type": "execute_result"
    }
   ],
   "source": [
    "arr"
   ]
  },
  {
   "cell_type": "code",
   "execution_count": 4,
   "id": "53974456-3a4b-4f48-968a-d675124349f8",
   "metadata": {},
   "outputs": [
    {
     "data": {
      "text/plain": [
       "numpy.ndarray"
      ]
     },
     "execution_count": 4,
     "metadata": {},
     "output_type": "execute_result"
    }
   ],
   "source": [
    "type(arr)"
   ]
  },
  {
   "cell_type": "code",
   "execution_count": 5,
   "id": "f9b33fa5-7568-4ef6-af1e-c9359aa43d72",
   "metadata": {},
   "outputs": [],
   "source": [
    "matrix=np.array([[1,2,3],[4,5,6]])"
   ]
  },
  {
   "cell_type": "code",
   "execution_count": 6,
   "id": "6903ea01-d1d6-465e-9722-c93180bc1939",
   "metadata": {},
   "outputs": [],
   "source": [
    "matrix=np.array([[1,2,3,4],[4,5,6,7]])"
   ]
  },
  {
   "cell_type": "code",
   "execution_count": 7,
   "id": "0a49a1dc-2109-4e9b-b4bf-2a5c6b1c6ed0",
   "metadata": {},
   "outputs": [
    {
     "name": "stdout",
     "output_type": "stream",
     "text": [
      "[[1 2 3 4]\n",
      " [4 5 6 7]]\n"
     ]
    }
   ],
   "source": [
    "print(matrix)"
   ]
  },
  {
   "cell_type": "code",
   "execution_count": 8,
   "id": "a6f4e8a4-0c43-4402-b667-dc6e86cb90c0",
   "metadata": {},
   "outputs": [
    {
     "data": {
      "text/plain": [
       "(5,)"
      ]
     },
     "execution_count": 8,
     "metadata": {},
     "output_type": "execute_result"
    }
   ],
   "source": [
    "arr.shape"
   ]
  },
  {
   "cell_type": "code",
   "execution_count": 9,
   "id": "efee7ac7-7964-4752-b8ab-8672993ec145",
   "metadata": {},
   "outputs": [
    {
     "data": {
      "text/plain": [
       "(2, 4)"
      ]
     },
     "execution_count": 9,
     "metadata": {},
     "output_type": "execute_result"
    }
   ],
   "source": [
    "matrix.shape"
   ]
  },
  {
   "cell_type": "code",
   "execution_count": 10,
   "id": "c75360f6-7b15-413c-965a-7c20a0fcdfc6",
   "metadata": {},
   "outputs": [
    {
     "data": {
      "text/plain": [
       "dtype('int32')"
      ]
     },
     "execution_count": 10,
     "metadata": {},
     "output_type": "execute_result"
    }
   ],
   "source": [
    "matrix.dtype"
   ]
  },
  {
   "cell_type": "code",
   "execution_count": 11,
   "id": "9c472d90-2b9f-47d6-bdf8-9769a3daf390",
   "metadata": {},
   "outputs": [],
   "source": [
    "matrix[0,0]=5"
   ]
  },
  {
   "cell_type": "code",
   "execution_count": 12,
   "id": "e67bd886-7bf6-4a7d-a07f-ed7f8531e949",
   "metadata": {},
   "outputs": [
    {
     "data": {
      "text/plain": [
       "array([[5, 2, 3, 4],\n",
       "       [4, 5, 6, 7]])"
      ]
     },
     "execution_count": 12,
     "metadata": {},
     "output_type": "execute_result"
    }
   ],
   "source": [
    "matrix"
   ]
  },
  {
   "cell_type": "code",
   "execution_count": 13,
   "id": "3574307a-0cbf-48c3-91b8-0fa3aa0c1fee",
   "metadata": {},
   "outputs": [
    {
     "ename": "ValueError",
     "evalue": "invalid literal for int() with base 10: 'omkar'",
     "output_type": "error",
     "traceback": [
      "\u001b[1;31m---------------------------------------------------------------------------\u001b[0m",
      "\u001b[1;31mValueError\u001b[0m                                Traceback (most recent call last)",
      "Cell \u001b[1;32mIn[13], line 1\u001b[0m\n\u001b[1;32m----> 1\u001b[0m \u001b[43mmatrix\u001b[49m\u001b[43m[\u001b[49m\u001b[38;5;241;43m0\u001b[39;49m\u001b[43m,\u001b[49m\u001b[38;5;241;43m0\u001b[39;49m\u001b[43m]\u001b[49m\u001b[38;5;241m=\u001b[39m\u001b[38;5;124m'\u001b[39m\u001b[38;5;124momkar\u001b[39m\u001b[38;5;124m'\u001b[39m\n",
      "\u001b[1;31mValueError\u001b[0m: invalid literal for int() with base 10: 'omkar'"
     ]
    }
   ],
   "source": [
    "matrix[0,0]='omkar'"
   ]
  },
  {
   "cell_type": "code",
   "execution_count": null,
   "id": "2fdd8a0a-97d5-40ec-819b-97b7a6a975a2",
   "metadata": {},
   "outputs": [],
   "source": [
    "matrix[0][0]"
   ]
  },
  {
   "cell_type": "code",
   "execution_count": null,
   "id": "642eb046-1794-4a75-8746-dd04d36eabc2",
   "metadata": {},
   "outputs": [],
   "source": [
    "matrix[0,0]"
   ]
  },
  {
   "cell_type": "code",
   "execution_count": null,
   "id": "842d16e1-9445-4b96-8fa5-4236c7c8dcee",
   "metadata": {},
   "outputs": [],
   "source": [
    "mat2= np.arange(0,20,3)"
   ]
  },
  {
   "cell_type": "code",
   "execution_count": null,
   "id": "a58f0e69-bd97-4ea1-9b4c-bae8d2444128",
   "metadata": {},
   "outputs": [],
   "source": [
    "mat2"
   ]
  },
  {
   "cell_type": "code",
   "execution_count": null,
   "id": "60cd9c57-48d7-409b-9b67-0c827b251c05",
   "metadata": {},
   "outputs": [],
   "source": [
    "mat3= np.linspace(0,10,20)"
   ]
  },
  {
   "cell_type": "code",
   "execution_count": null,
   "id": "f5184fbc-5e22-4736-9130-4eb347b0111c",
   "metadata": {},
   "outputs": [],
   "source": [
    "mat3"
   ]
  },
  {
   "cell_type": "code",
   "execution_count": null,
   "id": "a76d8c99-45a7-47c8-b8b4-d6ca53c265ca",
   "metadata": {},
   "outputs": [],
   "source": [
    "mat4= np.random.rand(5,5)\n",
    "mat4"
   ]
  },
  {
   "cell_type": "code",
   "execution_count": null,
   "id": "1ab9bba1-cec4-456e-b0b5-29cfb1158882",
   "metadata": {},
   "outputs": [],
   "source": [
    "mat5= np.random.randn(5,4) #normally distributed random numbers"
   ]
  },
  {
   "cell_type": "code",
   "execution_count": null,
   "id": "cb624ec0-35e6-4975-b107-f18810b57679",
   "metadata": {},
   "outputs": [],
   "source": [
    "mat5"
   ]
  },
  {
   "cell_type": "code",
   "execution_count": null,
   "id": "dd9acd97-f0f7-47e8-82a9-fd23d30db836",
   "metadata": {},
   "outputs": [],
   "source": [
    "#diagonal matrix\n",
    "mat6=np.diag([1,2,3,4,5])\n",
    "mat6"
   ]
  },
  {
   "cell_type": "code",
   "execution_count": null,
   "id": "884173c7-8901-45c3-a4ef-e1289d56b37b",
   "metadata": {},
   "outputs": [],
   "source": [
    "mat7=np.zeros(10)\n",
    "mat7"
   ]
  },
  {
   "cell_type": "code",
   "execution_count": null,
   "id": "7de53c6f-2ebf-426e-bdcf-5667b95700e2",
   "metadata": {},
   "outputs": [],
   "source": [
    "mat8=np.ones(10)\n",
    "mat8"
   ]
  }
 ],
 "metadata": {
  "kernelspec": {
   "display_name": "Python 3 (ipykernel)",
   "language": "python",
   "name": "python3"
  },
  "language_info": {
   "codemirror_mode": {
    "name": "ipython",
    "version": 3
   },
   "file_extension": ".py",
   "mimetype": "text/x-python",
   "name": "python",
   "nbconvert_exporter": "python",
   "pygments_lexer": "ipython3",
   "version": "3.10.9"
  }
 },
 "nbformat": 4,
 "nbformat_minor": 5
}
