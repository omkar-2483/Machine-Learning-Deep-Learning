{
 "cells": [
  {
   "cell_type": "markdown",
   "id": "f0bfc67e-4f8f-4a30-9e88-45e9c31d144f",
   "metadata": {},
   "source": [
    "# Heading 1\n",
    "## Heading 2\n",
    "### Heading 3\n",
    "* bullet point 1\n",
    "* bullet point 2"
   ]
  },
  {
   "cell_type": "raw",
   "id": "a6c05bcc-444d-4de8-911d-6b56bd263a60",
   "metadata": {},
   "source": [
    "esc+a= add one cell above\n",
    "esc+b+= add one cell below\n",
    "esc+m= convert cell to markdowm\n",
    "esc+r= convert cell to raw"
   ]
  },
  {
   "cell_type": "markdown",
   "id": "9618310f-20dd-47df-b06f-63ee2d495fac",
   "metadata": {},
   "source": [
    "# string in python"
   ]
  },
  {
   "cell_type": "code",
   "execution_count": 1,
   "id": "ad179085-8c8b-4c24-a73d-e888990093d9",
   "metadata": {},
   "outputs": [],
   "source": [
    "str1='omkar kasture'"
   ]
  },
  {
   "cell_type": "code",
   "execution_count": 3,
   "id": "8dabcfa2-d3e6-4755-9532-0eee52e0d6e8",
   "metadata": {},
   "outputs": [
    {
     "data": {
      "text/plain": [
       "'omkar kasture'"
      ]
     },
     "execution_count": 3,
     "metadata": {},
     "output_type": "execute_result"
    }
   ],
   "source": [
    "str1"
   ]
  },
  {
   "cell_type": "code",
   "execution_count": 4,
   "id": "15c56544-7e1b-4fb6-a9c4-c1f0b1f1974a",
   "metadata": {},
   "outputs": [
    {
     "name": "stdout",
     "output_type": "stream",
     "text": [
      "omkar kasture\n"
     ]
    }
   ],
   "source": [
    "print(str1)"
   ]
  },
  {
   "cell_type": "code",
   "execution_count": 6,
   "id": "0dddea1a-fab8-42bc-a798-ecf2d8255f7d",
   "metadata": {},
   "outputs": [],
   "source": [
    "c= 'machine learning'"
   ]
  },
  {
   "cell_type": "code",
   "execution_count": 7,
   "id": "a8a8ba4e-f426-47ee-9d1c-1e216bb08405",
   "metadata": {},
   "outputs": [
    {
     "name": "stdout",
     "output_type": "stream",
     "text": [
      "st omkar kasture is learnig machine learning\n"
     ]
    }
   ],
   "source": [
    "print(\"st {} is learnig {}\".format(str1,c))"
   ]
  },
  {
   "cell_type": "code",
   "execution_count": 8,
   "id": "3ab628dd-109e-4798-bc31-0bae309f7fda",
   "metadata": {},
   "outputs": [
    {
     "data": {
      "text/plain": [
       "13"
      ]
     },
     "execution_count": 8,
     "metadata": {},
     "output_type": "execute_result"
    }
   ],
   "source": [
    "len(str1)"
   ]
  },
  {
   "cell_type": "code",
   "execution_count": 9,
   "id": "dcf4d43d-4d36-412b-84d9-8926abef31e8",
   "metadata": {},
   "outputs": [
    {
     "data": {
      "text/plain": [
       "'shubham kasture'"
      ]
     },
     "execution_count": 9,
     "metadata": {},
     "output_type": "execute_result"
    }
   ],
   "source": [
    "str1.replace(\"omkar\",\"shubham\")"
   ]
  },
  {
   "cell_type": "code",
   "execution_count": 10,
   "id": "eb99aa0d-440f-4041-8488-3408ef277410",
   "metadata": {},
   "outputs": [
    {
     "data": {
      "text/plain": [
       "'omkar kasture'"
      ]
     },
     "execution_count": 10,
     "metadata": {},
     "output_type": "execute_result"
    }
   ],
   "source": [
    "str1"
   ]
  },
  {
   "cell_type": "code",
   "execution_count": 11,
   "id": "4f042c3d-f14f-46bc-a08e-c316694d5211",
   "metadata": {},
   "outputs": [],
   "source": [
    "str1=str1.replace(\"omkar\",\"shubham\")"
   ]
  },
  {
   "cell_type": "code",
   "execution_count": 12,
   "id": "287d245b-9e49-40f4-bc93-e25ce44ec085",
   "metadata": {},
   "outputs": [
    {
     "data": {
      "text/plain": [
       "'shubham kasture'"
      ]
     },
     "execution_count": 12,
     "metadata": {},
     "output_type": "execute_result"
    }
   ],
   "source": [
    "str1"
   ]
  },
  {
   "cell_type": "code",
   "execution_count": 13,
   "id": "11ce5b6f-e8a2-4ff2-b411-401c5bfae9e6",
   "metadata": {},
   "outputs": [
    {
     "data": {
      "text/plain": [
       "str"
      ]
     },
     "execution_count": 13,
     "metadata": {},
     "output_type": "execute_result"
    }
   ],
   "source": [
    "type(str1)"
   ]
  },
  {
   "cell_type": "code",
   "execution_count": null,
   "id": "da9a7329-d4b0-4e2c-8691-0615f0700573",
   "metadata": {},
   "outputs": [],
   "source": []
  }
 ],
 "metadata": {
  "kernelspec": {
   "display_name": "Python 3 (ipykernel)",
   "language": "python",
   "name": "python3"
  },
  "language_info": {
   "codemirror_mode": {
    "name": "ipython",
    "version": 3
   },
   "file_extension": ".py",
   "mimetype": "text/x-python",
   "name": "python",
   "nbconvert_exporter": "python",
   "pygments_lexer": "ipython3",
   "version": "3.10.9"
  }
 },
 "nbformat": 4,
 "nbformat_minor": 5
}
