{
 "cells": [
  {
   "cell_type": "markdown",
   "metadata": {
    "id": "3mYUcDm8cqz3"
   },
   "source": [
    "To practice the provided questions in this collab, you can choose one of the following options:\n",
    "\n",
    "1. **Download the File:**\n",
    "   - Once the notebook is open, go to the \"File\" menu at the top left.\n",
    "   - Select \"Download .py\" from the dropdown menu.\n",
    "   - The notebook will be downloaded in Python script format (`.py`).\n",
    "2. **Copy and Create New Google Colab File:**\n",
    "   - Open a new Google Colab notebook.\n",
    "   - Create a new code cell by clicking the \"+\" button.\n",
    "   - Paste the copied question into the code cell.\n"
   ]
  },
  {
   "cell_type": "markdown",
   "metadata": {
    "id": "-rEtSqw-KP2V"
   },
   "source": [
    "# ***Python***"
   ]
  },
  {
   "cell_type": "markdown",
   "metadata": {
    "id": "v1_ApT5gKP2j"
   },
   "source": [
    "**Functions**"
   ]
  },
  {
   "cell_type": "markdown",
   "metadata": {
    "id": "F6JdTvvmKP2k"
   },
   "source": [
    "- **`Functions`**: Functions are blocks of code that perform a specific task. They take input, process it, and return an output. Functions help in organizing code, promoting reusability, and making the code more modular.\n",
    "\n",
    "\n",
    "https://docs.python.org/3/tutorial/controlflow.html#defining-functions"
   ]
  },
  {
   "cell_type": "code",
   "execution_count": null,
   "metadata": {
    "colab": {
     "base_uri": "https://localhost:8080/"
    },
    "id": "vnb8tSLZKP2l",
    "outputId": "71d43ab2-0ce8-4cd6-dd62-f033c5caa326"
   },
   "outputs": [
    {
     "name": "stdout",
     "output_type": "stream",
     "text": [
      "Enter a number: 5\n",
      "Factorial of 5 is 120\n"
     ]
    }
   ],
   "source": [
    "# Function to calculate the factorial of a number\n",
    "def factorial(n):\n",
    "    if n == 0 or n == 1:\n",
    "        return 1\n",
    "    else:\n",
    "        return n * factorial(n - 1)\n",
    "\n",
    "num = int(input(\"Enter a number: \"))\n",
    "result = factorial(num)\n",
    "print(\"Factorial of\", num, \"is\", result)"
   ]
  },
  {
   "cell_type": "markdown",
   "metadata": {
    "id": "WmRtu_K-KP2m"
   },
   "source": [
    "Practice Question : Write a function that takes two arguments and returns their sum."
   ]
  },
  {
   "cell_type": "markdown",
   "metadata": {
    "id": "DA-7UGyLKP2n"
   },
   "source": [
    "**If-Else**"
   ]
  },
  {
   "cell_type": "markdown",
   "metadata": {
    "id": "vezCQAI5KP2o"
   },
   "source": [
    "- **`If-Else Statements`**: If-else statements are used to make decisions in code. They allow you to execute different blocks of code based on whether a condition is true or false. If the condition is true, the code in the \"if\" block is executed; otherwise, the code in the \"else\" block is executed.\n",
    "\n",
    "\n",
    "\n",
    "https://docs.python.org/3/tutorial/controlflow.html#if-statements"
   ]
  },
  {
   "cell_type": "code",
   "execution_count": null,
   "metadata": {
    "colab": {
     "base_uri": "https://localhost:8080/",
     "height": 390
    },
    "id": "1eee6XwNKP2o",
    "outputId": "75a16512-30cd-47f1-a66f-56a4600ba074"
   },
   "outputs": [
    {
     "ename": "KeyboardInterrupt",
     "evalue": "ignored",
     "output_type": "error",
     "traceback": [
      "\u001b[0;31m---------------------------------------------------------------------------\u001b[0m",
      "\u001b[0;31mKeyboardInterrupt\u001b[0m                         Traceback (most recent call last)",
      "\u001b[0;32m<ipython-input-3-3fc2ea7a1266>\u001b[0m in \u001b[0;36m<cell line: 2>\u001b[0;34m()\u001b[0m\n\u001b[1;32m      1\u001b[0m \u001b[0;31m# Check if a person is eligible to vote\u001b[0m\u001b[0;34m\u001b[0m\u001b[0;34m\u001b[0m\u001b[0m\n\u001b[0;32m----> 2\u001b[0;31m \u001b[0mage\u001b[0m \u001b[0;34m=\u001b[0m \u001b[0mint\u001b[0m\u001b[0;34m(\u001b[0m\u001b[0minput\u001b[0m\u001b[0;34m(\u001b[0m\u001b[0;34m\"Enter your age: \"\u001b[0m\u001b[0;34m)\u001b[0m\u001b[0;34m)\u001b[0m\u001b[0;34m\u001b[0m\u001b[0;34m\u001b[0m\u001b[0m\n\u001b[0m\u001b[1;32m      3\u001b[0m \u001b[0;34m\u001b[0m\u001b[0m\n\u001b[1;32m      4\u001b[0m \u001b[0;32mif\u001b[0m \u001b[0mage\u001b[0m \u001b[0;34m>=\u001b[0m \u001b[0;36m18\u001b[0m\u001b[0;34m:\u001b[0m\u001b[0;34m\u001b[0m\u001b[0;34m\u001b[0m\u001b[0m\n\u001b[1;32m      5\u001b[0m     \u001b[0mprint\u001b[0m\u001b[0;34m(\u001b[0m\u001b[0;34m\"You are eligible to vote.\"\u001b[0m\u001b[0;34m)\u001b[0m\u001b[0;34m\u001b[0m\u001b[0;34m\u001b[0m\u001b[0m\n",
      "\u001b[0;32m/usr/local/lib/python3.10/dist-packages/ipykernel/kernelbase.py\u001b[0m in \u001b[0;36mraw_input\u001b[0;34m(self, prompt)\u001b[0m\n\u001b[1;32m    849\u001b[0m                 \u001b[0;34m\"raw_input was called, but this frontend does not support input requests.\"\u001b[0m\u001b[0;34m\u001b[0m\u001b[0;34m\u001b[0m\u001b[0m\n\u001b[1;32m    850\u001b[0m             )\n\u001b[0;32m--> 851\u001b[0;31m         return self._input_request(str(prompt),\n\u001b[0m\u001b[1;32m    852\u001b[0m             \u001b[0mself\u001b[0m\u001b[0;34m.\u001b[0m\u001b[0m_parent_ident\u001b[0m\u001b[0;34m,\u001b[0m\u001b[0;34m\u001b[0m\u001b[0;34m\u001b[0m\u001b[0m\n\u001b[1;32m    853\u001b[0m             \u001b[0mself\u001b[0m\u001b[0;34m.\u001b[0m\u001b[0m_parent_header\u001b[0m\u001b[0;34m,\u001b[0m\u001b[0;34m\u001b[0m\u001b[0;34m\u001b[0m\u001b[0m\n",
      "\u001b[0;32m/usr/local/lib/python3.10/dist-packages/ipykernel/kernelbase.py\u001b[0m in \u001b[0;36m_input_request\u001b[0;34m(self, prompt, ident, parent, password)\u001b[0m\n\u001b[1;32m    893\u001b[0m             \u001b[0;32mexcept\u001b[0m \u001b[0mKeyboardInterrupt\u001b[0m\u001b[0;34m:\u001b[0m\u001b[0;34m\u001b[0m\u001b[0;34m\u001b[0m\u001b[0m\n\u001b[1;32m    894\u001b[0m                 \u001b[0;31m# re-raise KeyboardInterrupt, to truncate traceback\u001b[0m\u001b[0;34m\u001b[0m\u001b[0;34m\u001b[0m\u001b[0m\n\u001b[0;32m--> 895\u001b[0;31m                 \u001b[0;32mraise\u001b[0m \u001b[0mKeyboardInterrupt\u001b[0m\u001b[0;34m(\u001b[0m\u001b[0;34m\"Interrupted by user\"\u001b[0m\u001b[0;34m)\u001b[0m \u001b[0;32mfrom\u001b[0m \u001b[0;32mNone\u001b[0m\u001b[0;34m\u001b[0m\u001b[0;34m\u001b[0m\u001b[0m\n\u001b[0m\u001b[1;32m    896\u001b[0m             \u001b[0;32mexcept\u001b[0m \u001b[0mException\u001b[0m \u001b[0;32mas\u001b[0m \u001b[0me\u001b[0m\u001b[0;34m:\u001b[0m\u001b[0;34m\u001b[0m\u001b[0;34m\u001b[0m\u001b[0m\n\u001b[1;32m    897\u001b[0m                 \u001b[0mself\u001b[0m\u001b[0;34m.\u001b[0m\u001b[0mlog\u001b[0m\u001b[0;34m.\u001b[0m\u001b[0mwarning\u001b[0m\u001b[0;34m(\u001b[0m\u001b[0;34m\"Invalid Message:\"\u001b[0m\u001b[0;34m,\u001b[0m \u001b[0mexc_info\u001b[0m\u001b[0;34m=\u001b[0m\u001b[0;32mTrue\u001b[0m\u001b[0;34m)\u001b[0m\u001b[0;34m\u001b[0m\u001b[0;34m\u001b[0m\u001b[0m\n",
      "\u001b[0;31mKeyboardInterrupt\u001b[0m: Interrupted by user"
     ]
    }
   ],
   "source": [
    "# Check if a person is eligible to vote\n",
    "age = int(input(\"Enter your age: \"))\n",
    "\n",
    "if age >= 18:\n",
    "    print(\"You are eligible to vote.\")\n",
    "else:\n",
    "    print(\"You are not eligible to vote.\")\n"
   ]
  },
  {
   "cell_type": "markdown",
   "metadata": {
    "id": "QNYMxMtzKP2p"
   },
   "source": [
    "Practice Question : Write a program that checks if a given number is even or odd using if-else statements."
   ]
  },
  {
   "cell_type": "markdown",
   "metadata": {
    "id": "Es0AsNToGDIg"
   },
   "source": [
    "**LOOPS**\n"
   ]
  },
  {
   "cell_type": "markdown",
   "metadata": {
    "id": "8dyjwUJwGGwx"
   },
   "source": [
    "- **`LOOPS`**: Loops are constructs in programming that allow a specific block of code to be executed repeatedly. They are essential for automating repetitive tasks and iterating over data structures. Loops enable efficient and organized code execution, enhancing code reusability and modularity by encapsulating repetitive operations within a concise structure."
   ]
  },
  {
   "cell_type": "code",
   "execution_count": null,
   "metadata": {
    "colab": {
     "base_uri": "https://localhost:8080/"
    },
    "id": "ubr1pgC9GVny",
    "outputId": "b71453fa-68a3-4133-a501-0484ef69ed07"
   },
   "outputs": [
    {
     "name": "stdout",
     "output_type": "stream",
     "text": [
      "Enter a number: 5\n",
      "Sum of numbers from 1 to 5 is 15\n"
     ]
    }
   ],
   "source": [
    "\n",
    "# Function to calculate the sum of numbers from 1 to n using a loop\n",
    "def calculate_sum(n):\n",
    "    total = 0\n",
    "    for i in range(1, n + 1):\n",
    "        total += i\n",
    "    return total\n",
    "\n",
    "# Input from the user\n",
    "num = int(input(\"Enter a number: \"))\n",
    "\n",
    "# Call the function and print the result\n",
    "result = calculate_sum(num)\n",
    "print(\"Sum of numbers from 1 to\", num, \"is\", result)"
   ]
  },
  {
   "cell_type": "markdown",
   "metadata": {
    "id": "jPZJZmbHGe9D"
   },
   "source": [
    "Practice Question: Write a Python loop that prints the first 10 positive integers in ascending order.\n"
   ]
  },
  {
   "cell_type": "markdown",
   "metadata": {
    "id": "kzSlNK_HKP2p"
   },
   "source": [
    "**Match-Case**"
   ]
  },
  {
   "cell_type": "markdown",
   "metadata": {
    "id": "lQOvo4omKP2q"
   },
   "source": [
    "- **`Match-Case` :**  The `match` keyword is employed to compare an expression's value with a sequence of patterns. Using the `case` keyword followed by a specific value or pattern, the corresponding code block executes when the expression matches. If none of the cases match, the _ case is activated as the default option. This construct streamlines the decision-making process by facilitating concise pattern-based comparisons.\n",
    "\n",
    "\n",
    "https://www.geeksforgeeks.org/python-match-case-statement/"
   ]
  },
  {
   "cell_type": "code",
   "execution_count": null,
   "metadata": {
    "id": "uB28l3caKP2q"
   },
   "outputs": [],
   "source": [
    "# Using the match statement in Python 3.10\n",
    "\n",
    "def identify_day(day_number):\n",
    "    match day_number:\n",
    "        case 1:\n",
    "            day_name = \"Sunday\"\n",
    "        case 2:\n",
    "            day_name = \"Monday\"\n",
    "        case 3:\n",
    "            day_name = \"Tuesday\"\n",
    "        case 4:\n",
    "            day_name = \"Wednesday\"\n",
    "        case 5:\n",
    "            day_name = \"Thursday\"\n",
    "        case 6:\n",
    "            day_name = \"Friday\"\n",
    "        case 7:\n",
    "            day_name = \"Saturday\"\n",
    "        case _:\n",
    "            day_name = \"Invalid day\"\n",
    "    return day_name\n",
    "\n",
    "user_input = int(input(\"Enter a day number (1-7): \"))\n",
    "print(identify_day(user_input))"
   ]
  },
  {
   "cell_type": "markdown",
   "metadata": {
    "id": "fbNf-mnMKP2r"
   },
   "source": [
    "Practice Question : Use match-case to determine the type of a value(integer, float or string).\n",
    "```python\n",
    "value = 42\n"
   ]
  },
  {
   "cell_type": "markdown",
   "metadata": {
    "id": "xgJTet1dK_LC"
   },
   "source": [
    "\n",
    "\n",
    "# ***Numpy***"
   ]
  },
  {
   "cell_type": "markdown",
   "metadata": {
    "id": "3JN8SMGpK_LQ"
   },
   "source": [
    "**1. Array Creation**"
   ]
  },
  {
   "cell_type": "markdown",
   "metadata": {
    "id": "C_Yje2cZK_LR"
   },
   "source": [
    "- `np.array`: Creates a NumPy array, which is a multi-dimensional, homogeneous data structure that can hold various types of elements.\n",
    "\n",
    "https://numpy.org/doc/stable/reference/generated/numpy.array.html"
   ]
  },
  {
   "cell_type": "code",
   "execution_count": null,
   "metadata": {
    "id": "gWq5Vg0hK_LT"
   },
   "outputs": [],
   "source": [
    "import numpy as np\n",
    "\n",
    "# Create a NumPy array\n",
    "arr = np.array([1, 2, 3, 4, 5])\n",
    "print(\"NumPy Array:\", arr)"
   ]
  },
  {
   "cell_type": "markdown",
   "metadata": {
    "id": "kZsq3x0RK_LU"
   },
   "source": [
    "Practice Question : Create a NumPy array containing the values [1, 2, 3, 4, 5]."
   ]
  },
  {
   "cell_type": "markdown",
   "metadata": {
    "id": "_CkCiYrJK_LV"
   },
   "source": [
    "- `np.zeros`: Generates an array filled with zeros of a specified shape.\n",
    "\n",
    "https://numpy.org/doc/stable/reference/generated/numpy.zeros.html"
   ]
  },
  {
   "cell_type": "code",
   "execution_count": null,
   "metadata": {
    "id": "CxG_RjGSK_LV"
   },
   "outputs": [],
   "source": [
    "# Create an array of zeros\n",
    "zeros_arr = np.zeros((3, 4))  # 3 rows, 4 columns\n",
    "print(\"Zeros Array:\")\n",
    "print(zeros_arr)"
   ]
  },
  {
   "cell_type": "markdown",
   "metadata": {
    "id": "L8Bk0HiJK_LV"
   },
   "source": [
    "Practice Question : Create a 2x3 NumPy array filled with zeros."
   ]
  },
  {
   "cell_type": "markdown",
   "metadata": {
    "id": "fgDHSS80K_LW"
   },
   "source": [
    "\n",
    "- `np.ones`: Creates an array filled with ones of a specified shape.\n",
    "\n",
    "https://numpy.org/doc/stable/reference/generated/numpy.ones.html\n"
   ]
  },
  {
   "cell_type": "code",
   "execution_count": null,
   "metadata": {
    "id": "4SdPQOJzK_LW"
   },
   "outputs": [],
   "source": [
    "# Create an array of ones\n",
    "ones_arr = np.ones((2, 3))  # 2 rows, 3 columns\n",
    "print(\"Ones Array:\")\n",
    "print(ones_arr)"
   ]
  },
  {
   "cell_type": "markdown",
   "metadata": {
    "id": "hjufGU5IK_LX"
   },
   "source": [
    "Practice Question : Create a 3x2 NumPy array filled with ones."
   ]
  },
  {
   "cell_type": "markdown",
   "metadata": {
    "id": "U3ci1IAIK_LX"
   },
   "source": [
    "- `np.random.rand`: Generates random numbers in a specified shape from a uniform distribution over [0, 1).\n",
    "\n",
    "https://numpy.org/doc/stable/reference/random/generated/numpy.random.rand.html"
   ]
  },
  {
   "cell_type": "code",
   "execution_count": null,
   "metadata": {
    "id": "BfhLNqUIK_LY"
   },
   "outputs": [],
   "source": [
    "\n",
    "# Generate random numbers between 0 and 1\n",
    "random_arr = np.random.rand(3, 2)  # 3 rows, 2 columns\n",
    "print(\"Random Array:\")\n",
    "print(random_arr)\n"
   ]
  },
  {
   "cell_type": "markdown",
   "metadata": {
    "id": "nQyLGxSuK_LZ"
   },
   "source": [
    "Practice Question : Generate a 1D NumPy array with 5 random values between 0 and 1."
   ]
  },
  {
   "cell_type": "markdown",
   "metadata": {
    "id": "3DmXdJBtK_LZ"
   },
   "source": [
    "**2. Array Operations**"
   ]
  },
  {
   "cell_type": "code",
   "execution_count": null,
   "metadata": {
    "id": "EBHZKbQxK_La"
   },
   "outputs": [],
   "source": [
    "# Create two NumPy arrays\n",
    "arr1 = np.array([1, 2, 3])\n",
    "arr2 = np.array([4, 5, 6])"
   ]
  },
  {
   "cell_type": "markdown",
   "metadata": {
    "id": "bvrLXNXBK_La"
   },
   "source": [
    "- `np.add`: Element-wise addition of two arrays or a scalar and an array.\n",
    "\n",
    "https://numpy.org/doc/stable/reference/generated/numpy.add.html"
   ]
  },
  {
   "cell_type": "code",
   "execution_count": null,
   "metadata": {
    "id": "OlGWon3XK_Lb"
   },
   "outputs": [],
   "source": [
    "# Perform element-wise addition\n",
    "add_result = np.add(arr1, arr2)\n",
    "print(\"Addition Result:\", add_result)\n"
   ]
  },
  {
   "cell_type": "markdown",
   "metadata": {
    "id": "xVgrPiBlK_Lb"
   },
   "source": [
    "Practice Question : Add two NumPy arrays element-wise.\n",
    "```python\n",
    "array1 = np.array([16, 27, 83])\n",
    "array2 = np.array([40, 15, 26])\n"
   ]
  },
  {
   "cell_type": "markdown",
   "metadata": {
    "id": "dFUpTyLDK_Lb"
   },
   "source": [
    "- `np.subtract`: Element-wise subtraction of one array from another or a scalar from an array.\n",
    "\n",
    "https://numpy.org/doc/stable/reference/generated/numpy.subtract.html"
   ]
  },
  {
   "cell_type": "code",
   "execution_count": null,
   "metadata": {
    "id": "tOI4x2G8K_Lc"
   },
   "outputs": [],
   "source": [
    "# Perform element-wise subtraction\n",
    "subtract_result = np.subtract(arr2, arr1)\n",
    "print(\"Subtraction Result:\", subtract_result)"
   ]
  },
  {
   "cell_type": "markdown",
   "metadata": {
    "id": "Pv2n-ULFK_Ld"
   },
   "source": [
    "Practice Question: Subtract one NumPy array from another element-wise.\n",
    "```python\n",
    "array1 = np.array([4, 5, 6])\n",
    "array2 = np.array([1, 2, 3])\n"
   ]
  },
  {
   "cell_type": "markdown",
   "metadata": {
    "id": "gkYvDa3ZK_Ld"
   },
   "source": [
    "- `np.multiply`: Element-wise multiplication of two arrays or a scalar and an array.\n",
    "\n",
    "https://numpy.org/doc/stable/reference/generated/numpy.multiply.html"
   ]
  },
  {
   "cell_type": "code",
   "execution_count": null,
   "metadata": {
    "id": "ZChrsf0LK_Ld"
   },
   "outputs": [],
   "source": [
    "# Perform element-wise multiplication\n",
    "multiply_result = np.multiply(arr1, arr2)\n",
    "print(\"Multiplication Result:\", multiply_result)"
   ]
  },
  {
   "cell_type": "markdown",
   "metadata": {
    "id": "p9NqYx0LK_Le"
   },
   "source": [
    "Practice Question: Multiply two NumPy arrays element-wise.\n",
    "```python\n",
    "array1 = np.array([2, 3, 4])\n",
    "array2 = np.array([5, 6, 7])\n"
   ]
  },
  {
   "cell_type": "markdown",
   "metadata": {
    "id": "5clfLp_XK_Le"
   },
   "source": [
    "- `np.divide`: Element-wise division of one array by another or a scalar by an array.\n",
    "\n",
    "https://numpy.org/doc/stable/reference/generated/numpy.divide.html"
   ]
  },
  {
   "cell_type": "code",
   "execution_count": null,
   "metadata": {
    "id": "XvHyDQPJK_Lf"
   },
   "outputs": [],
   "source": [
    "# Perform element-wise division\n",
    "divide_result = np.divide(arr2, arr1)\n",
    "print(\"Division Result:\", divide_result)"
   ]
  },
  {
   "cell_type": "markdown",
   "metadata": {
    "id": "ZdLH0z6nK_Lf"
   },
   "source": [
    "Practice Question : Divide one NumPy array by another element-wise.\n",
    "```python\n",
    "array1 = np.array([10, 20, 30])\n",
    "array2 = np.array([2, 4, 6])\n"
   ]
  },
  {
   "cell_type": "markdown",
   "metadata": {
    "id": "Xgym8KZvK_Lg"
   },
   "source": [
    "- `np.sqrt`: Computes the element-wise square root of an array.\n",
    "\n",
    "https://numpy.org/doc/stable/reference/generated/numpy.sqrt.html"
   ]
  },
  {
   "cell_type": "code",
   "execution_count": null,
   "metadata": {
    "id": "_9R3Uzj-K_Lg"
   },
   "outputs": [],
   "source": [
    "# Compute element-wise square root\n",
    "sqrt_result = np.sqrt(arr1)\n",
    "print(\"Square Root Result:\", sqrt_result)"
   ]
  },
  {
   "cell_type": "markdown",
   "metadata": {
    "id": "ft6zcZlWK_Lh"
   },
   "source": [
    "Practice Question : Calculate the square root of a NumPy array's elements.\n",
    "```python\n",
    "array = np.array([9, 16, 25])\n"
   ]
  },
  {
   "cell_type": "markdown",
   "metadata": {
    "id": "0BLKNzLRK_Lh"
   },
   "source": [
    "**3. Array Attributes**"
   ]
  },
  {
   "cell_type": "code",
   "execution_count": null,
   "metadata": {
    "id": "tD-o27A7K_Li"
   },
   "outputs": [],
   "source": [
    "import numpy as np\n",
    "\n",
    "# Create a 2D array\n",
    "arr = np.array([[1, 2, 3], [4, 5, 6]])"
   ]
  },
  {
   "cell_type": "markdown",
   "metadata": {
    "id": "U5DpwZQZK_Li"
   },
   "source": [
    "- `ndarray.shape`: Returns a tuple representing the dimensions of the array.\n",
    "\n",
    "https://numpy.org/doc/stable/reference/generated/numpy.ndarray.shape.html"
   ]
  },
  {
   "cell_type": "code",
   "execution_count": null,
   "metadata": {
    "id": "PczDV1TuK_Li"
   },
   "outputs": [],
   "source": [
    "# Get the shape of the array\n",
    "shape = arr.shape\n",
    "print(\"Array Shape:\", shape)"
   ]
  },
  {
   "cell_type": "markdown",
   "metadata": {
    "id": "OAWnoE93K_Lj"
   },
   "source": [
    "Practice Question : Get the shape of a 2D NumPy array.\n",
    "```python\n",
    "array = np.array([[1, 2, 3], [4, 5, 6]])\n"
   ]
  },
  {
   "cell_type": "markdown",
   "metadata": {
    "id": "J4WZDdf4K_Lj"
   },
   "source": [
    "- `ndarray.size`: Returns the total number of elements in the array\n",
    "\n",
    "https://numpy.org/doc/stable/reference/generated/numpy.ndarray.size.html"
   ]
  },
  {
   "cell_type": "code",
   "execution_count": null,
   "metadata": {
    "id": "TGXsqKuqK_Lj"
   },
   "outputs": [],
   "source": [
    "# Get the total number of elements\n",
    "size = arr.size\n",
    "print(\"Array Size:\", size)"
   ]
  },
  {
   "cell_type": "markdown",
   "metadata": {
    "id": "DbkOPuGgK_Lk"
   },
   "source": [
    "Practice Question : Find the number of elements in a 1D NumPy array.\n",
    "```python\n",
    "array = np.array([10, 20, 30, 40, 50])\n"
   ]
  },
  {
   "cell_type": "markdown",
   "metadata": {
    "id": "_prGtgfkK_Lk"
   },
   "source": [
    "- `ndarray.ndim`: Returns the number of dimensions (axes) of the array.\n",
    "\n",
    "https://numpy.org/doc/stable/reference/generated/numpy.ndarray.ndim.html"
   ]
  },
  {
   "cell_type": "code",
   "execution_count": null,
   "metadata": {
    "id": "TJIVIb_8K_Ll"
   },
   "outputs": [],
   "source": [
    "# Get the number of dimensions\n",
    "ndim = arr.ndim\n",
    "print(\"Number of Dimensions:\", ndim)"
   ]
  },
  {
   "cell_type": "markdown",
   "metadata": {
    "id": "1OM41WXiK_Ll"
   },
   "source": [
    "Practice Question : Determine the number of dimensions in a 3D NumPy array.\n",
    "```python\n",
    "array = np.array([[[1, 2], [3, 4]], [[5, 6], [7, 8]]])\n"
   ]
  },
  {
   "cell_type": "markdown",
   "metadata": {
    "id": "ktNWEv-BK_Lm"
   },
   "source": [
    "- `ndarray.dtype`: Returns the data type of the elements in the array.\n",
    "\n",
    "https://numpy.org/doc/stable/reference/generated/numpy.ndarray.dtype.html"
   ]
  },
  {
   "cell_type": "code",
   "execution_count": null,
   "metadata": {
    "id": "hLf04nmBK_Lm"
   },
   "outputs": [],
   "source": [
    "# Get the data type of the elements\n",
    "dtype = arr.dtype\n",
    "print(\"Data Type:\", dtype)"
   ]
  },
  {
   "cell_type": "markdown",
   "metadata": {
    "id": "6k8bkcxaK_Lm"
   },
   "source": [
    "Practice Question : Get the data type of elements in a NumPy array.\n",
    "```python\n",
    "array = np.array([1.5, 2.5, 3.5])\n"
   ]
  },
  {
   "cell_type": "markdown",
   "metadata": {
    "id": "XvYPuxQvK_Lm"
   },
   "source": [
    "**4. Indexing and Slicing:**"
   ]
  },
  {
   "cell_type": "markdown",
   "metadata": {
    "id": "FUDIFVGlK_Ln"
   },
   "source": [
    "- Indexing (`ndarray[index]`): Allows you to access a specific element in a NumPy ndarray using its index value. The index can be an integer or a tuple of integers for multidimensional arrays.\n",
    "\n",
    "https://numpy.org/doc/stable/reference/arrays.indexing.html"
   ]
  },
  {
   "cell_type": "code",
   "execution_count": null,
   "metadata": {
    "id": "7PhbuRg_K_Ln"
   },
   "outputs": [],
   "source": [
    "# Create a 1D array\n",
    "arr_1d = np.array([1, 2, 3, 4, 5])\n",
    "\n",
    "# Indexing: Access a specific element\n",
    "element = arr_1d[2]  # Access the element at index 2 (3rd element)\n",
    "print(\"Indexed Element:\", element)\n",
    "\n",
    "# Create a 2D array\n",
    "arr_2d = np.array([[1, 2, 3], [4, 5, 6], [7, 8, 9]])\n",
    "\n",
    "# Indexing: Access an element in a 2D array\n",
    "element_2d = arr_2d[1, 2]  # Access the element at row 1, column 2 (6)\n",
    "print(\"Indexed 2D Element:\", element_2d)\n",
    "\n"
   ]
  },
  {
   "cell_type": "markdown",
   "metadata": {
    "id": "gylME9U2K_Lo"
   },
   "source": [
    "Practice Question : Get the element at index 2 from a NumPy array.\n",
    "```python\n",
    "array = np.array([10, 20, 30, 40, 50])\n"
   ]
  },
  {
   "cell_type": "markdown",
   "metadata": {
    "id": "SB4lp1vMK_Lo"
   },
   "source": [
    "- Slicing (`ndarray[start:end]`): Allows you to extract a portion of a NumPy ndarray using a range of indices. The `start` index is inclusive, and the `end` index is exclusive. This creates a new ndarray that contains the specified slice of elements.\n",
    "\n",
    "https://numpy.org/doc/stable/reference/arrays.indexing.html"
   ]
  },
  {
   "cell_type": "code",
   "execution_count": null,
   "metadata": {
    "id": "zzhK5zjMK_Lp"
   },
   "outputs": [],
   "source": [
    "# Slicing: Extract a portion of a 1D array\n",
    "sliced_1d = arr_1d[1:4]  # Extract elements from index 1 to 3 (exclusive)\n",
    "print(\"Sliced 1D Array:\", sliced_1d)\n",
    "\n",
    "# Slicing: Extract a portion of a 2D array\n",
    "sliced_2d = arr_2d[0:2, 1:3]  # Extract rows 0 to 1 and columns 1 to 2\n",
    "print(\"Sliced 2D Array:\")\n",
    "print(sliced_2d)"
   ]
  },
  {
   "cell_type": "markdown",
   "metadata": {
    "id": "Xzf77o38K_Lp"
   },
   "source": [
    "Practice Question : Extract elements from index 1 to 3 (inclusive) from a NumPy array.\n",
    "```python\n",
    "array = np.array([10, 20, 30, 40, 50])\n"
   ]
  },
  {
   "cell_type": "markdown",
   "metadata": {
    "id": "REhl3d5cK_Lp"
   },
   "source": [
    "5. Aggregation and Statistics:"
   ]
  },
  {
   "cell_type": "markdown",
   "metadata": {
    "id": "rF1Pmh0FK_Lq"
   },
   "source": [
    "- `np.sum`: Computes the sum of array elements along a specified axis or over the entire array.\n",
    "\n",
    "https://numpy.org/doc/stable/reference/generated/numpy.sum.html"
   ]
  },
  {
   "cell_type": "code",
   "execution_count": null,
   "metadata": {
    "id": "EtfSNmwnK_Lq"
   },
   "outputs": [],
   "source": [
    "# Create a 1D array\n",
    "arr = np.array([4, 2, 9, 5, 1, 8, 6, 3, 7])\n",
    "\n",
    "# Compute the sum of array elements\n",
    "sum_result = np.sum(arr)\n",
    "print(\"Sum:\", sum_result)"
   ]
  },
  {
   "cell_type": "markdown",
   "metadata": {
    "id": "4YbOzHWJK_Lq"
   },
   "source": [
    "Practice Question : Calculate the sum of elements in a NumPy array.\n",
    "```python\n",
    "array = np.array([10, 20, 30, 40, 50])\n"
   ]
  },
  {
   "cell_type": "markdown",
   "metadata": {
    "id": "UTVallOEK_Lr"
   },
   "source": [
    "- `np.mean`: Calculates the mean (average) of array elements along a specified axis or over the entire array.\n",
    "\n",
    "https://numpy.org/doc/stable/reference/generated/numpy.mean.html"
   ]
  },
  {
   "cell_type": "code",
   "execution_count": null,
   "metadata": {
    "id": "HnUzd6owK_Lr"
   },
   "outputs": [],
   "source": [
    "# Calculate the mean of array elements\n",
    "mean_result = np.mean(arr)\n",
    "print(\"Mean:\", mean_result)"
   ]
  },
  {
   "cell_type": "markdown",
   "metadata": {
    "id": "Js-CFsTBK_Ls"
   },
   "source": [
    "Practice Question : Calculate the mean (average) of elements in a NumPy array.\n",
    "```python\n",
    "array = np.array([15, 25, 35, 45, 55])\n"
   ]
  },
  {
   "cell_type": "markdown",
   "metadata": {
    "id": "sRowBU7gK_Lt"
   },
   "source": [
    "- `np.median`: Computes the median (middle value) of array elements along a specified axis or over the entire array.\n",
    "\n",
    "https://numpy.org/doc/stable/reference/generated/numpy.median.html"
   ]
  },
  {
   "cell_type": "code",
   "execution_count": null,
   "metadata": {
    "id": "cVsvU9AHK_L4"
   },
   "outputs": [],
   "source": [
    "# Calculate the median of array elements\n",
    "median_result = np.median(arr)\n",
    "print(\"Median:\", median_result)"
   ]
  },
  {
   "cell_type": "markdown",
   "metadata": {
    "id": "Az982tHhK_L5"
   },
   "source": [
    "Practice Question : Find the median of elements in a NumPy array.\n",
    "```python\n",
    "array = np.array([8, 10, 12, 14, 16])\n"
   ]
  },
  {
   "cell_type": "markdown",
   "metadata": {
    "id": "kw7XAJ-yK_L6"
   },
   "source": [
    "- `np.std`: Calculates the standard deviation of array elements along a specified axis or over the entire array.\n",
    "\n",
    "https://numpy.org/doc/stable/reference/generated/numpy.std.html"
   ]
  },
  {
   "cell_type": "code",
   "execution_count": null,
   "metadata": {
    "id": "d9UFwlDUK_L6"
   },
   "outputs": [],
   "source": [
    "# Calculate the standard deviation of array elements\n",
    "std_result = np.std(arr)\n",
    "print(\"Standard Deviation:\", std_result)"
   ]
  },
  {
   "cell_type": "markdown",
   "metadata": {
    "id": "WjeORwveK_L7"
   },
   "source": [
    "Practice Question : Calculate the standard deviation of elements in a NumPy array.\n",
    "```python\n",
    "array = np.array([5, 10, 15, 20, 25])\n"
   ]
  },
  {
   "cell_type": "markdown",
   "metadata": {
    "id": "Lg_32M8CK_L8"
   },
   "source": [
    "- `np.min`: Finds the minimum value among array elements along a specified axis or over the entire array.\n",
    "\n",
    "https://numpy.org/doc/stable/reference/generated/numpy.min.html"
   ]
  },
  {
   "cell_type": "code",
   "execution_count": null,
   "metadata": {
    "id": "F0Zcsjh7K_L8"
   },
   "outputs": [],
   "source": [
    "# Find the minimum value in the array\n",
    "min_result = np.min(arr)\n",
    "print(\"Minimum:\", min_result)"
   ]
  },
  {
   "cell_type": "markdown",
   "metadata": {
    "id": "YcInRNIvK_L9"
   },
   "source": [
    "Practice Question : Find the minimum value in a NumPy array.\n",
    "```python\n",
    "array = np.array([18, 12, 9, 23, 15])\n"
   ]
  },
  {
   "cell_type": "markdown",
   "metadata": {
    "id": "er9Hnde8K_L9"
   },
   "source": [
    "- `np.max`: Finds the maximum value among array elements along a specified axis or over the entire array.\n",
    "\n",
    "https://numpy.org/doc/stable/reference/generated/numpy.max.html"
   ]
  },
  {
   "cell_type": "code",
   "execution_count": null,
   "metadata": {
    "id": "XUFY3HuRK_L-"
   },
   "outputs": [],
   "source": [
    "# Find the maximum value in the array\n",
    "max_result = np.max(arr)\n",
    "print(\"Maximum:\", max_result)"
   ]
  },
  {
   "cell_type": "markdown",
   "metadata": {
    "id": "pta3pbBAK_L_"
   },
   "source": [
    "Practice Question : Find the maximum value in a NumPy array.\n",
    "```python\n",
    "array = np.array([32, 45, 27, 54, 38])\n"
   ]
  },
  {
   "cell_type": "markdown",
   "metadata": {
    "id": "5YSgoUueK_L_"
   },
   "source": [
    "**6. Array Manipulation:**"
   ]
  },
  {
   "cell_type": "markdown",
   "metadata": {
    "id": "0DdIOoTQK_MA"
   },
   "source": [
    "- `ndarray.reshape()`: Reshapes an ndarray to a specified new shape while maintaining the original data. The total number of elements must remain unchanged.\n",
    "\n",
    "https://numpy.org/doc/stable/reference/generated/numpy.ndarray.reshape.html"
   ]
  },
  {
   "cell_type": "code",
   "execution_count": null,
   "metadata": {
    "id": "4LqAXiXBK_MA"
   },
   "outputs": [],
   "source": [
    "import numpy as np\n",
    "\n",
    "# Create a 2D array\n",
    "arr = np.array([[1, 2, 3], [4, 5, 6]])\n",
    "\n",
    "# Reshape the array to a different shape\n",
    "reshaped_arr = arr.reshape(3, 2)  # Reshaping to 3 rows, 2 columns\n",
    "print(\"Reshaped Array:\")\n",
    "print(reshaped_arr)"
   ]
  },
  {
   "cell_type": "markdown",
   "metadata": {
    "id": "pbFRXbxZK_MC"
   },
   "source": [
    "Practice Question : Reshape a 1D NumPy array into a 2D array with 3 rows and 2 columns.\n",
    "```python\n",
    "array = np.array([1, 2, 3, 4, 5, 6])\n"
   ]
  },
  {
   "cell_type": "markdown",
   "metadata": {
    "id": "ANjvxu83K_MD"
   },
   "source": [
    "- `ndarray.transpose()`: Transposes the dimensions of an ndarray, effectively flipping rows and columns.\n",
    "\n",
    "https://numpy.org/doc/stable/reference/generated/numpy.ndarray.transpose.html"
   ]
  },
  {
   "cell_type": "code",
   "execution_count": null,
   "metadata": {
    "id": "C_vrrXuhK_ME"
   },
   "outputs": [],
   "source": [
    "# Transpose the array\n",
    "transposed_arr = arr.transpose()  # Transpose rows and columns\n",
    "print(\"Transposed Array:\")\n",
    "print(transposed_arr)"
   ]
  },
  {
   "cell_type": "markdown",
   "metadata": {
    "id": "_9z9jPFmK_MF"
   },
   "source": [
    "Practice Question : Transpose a 2D NumPy array (swap rows and columns).\n",
    "```python\n",
    "array = np.array([[1, 2, 3], [4, 5, 6]])\n"
   ]
  },
  {
   "cell_type": "markdown",
   "metadata": {
    "id": "KWQ3XGBSK_MG"
   },
   "source": [
    "**7. Loading and Saving Data**"
   ]
  },
  {
   "cell_type": "markdown",
   "metadata": {
    "id": "UU7bSoibK_MH"
   },
   "source": [
    "- `np.load`: Loads and returns an ndarray or a dictionary of ndarrays from a binary file (usually with a `.npy` extension) created using np.save.\n",
    "\n",
    "https://numpy.org/doc/stable/reference/generated/numpy.load.html"
   ]
  },
  {
   "cell_type": "code",
   "execution_count": null,
   "metadata": {
    "id": "1pvD9ZZkK_MI"
   },
   "outputs": [],
   "source": [
    "# Create an ndarray\n",
    "arr = np.array([1, 2, 3, 4, 5])\n",
    "\n",
    "# Save the ndarray to a file\n",
    "np.save('saved_array.npy', arr)\n",
    "\n",
    "\n",
    "print(\"Original Array:\", arr)"
   ]
  },
  {
   "cell_type": "markdown",
   "metadata": {
    "id": "sEsSgk-RK_MK"
   },
   "source": [
    "- `np.save`: Saves an ndarray or a dictionary of ndarrays to a binary file with the `.npy` extension, preserving the data and metadata of the array(s).\n",
    "\n",
    "https://numpy.org/doc/stable/reference/generated/numpy.save.html"
   ]
  },
  {
   "cell_type": "code",
   "execution_count": null,
   "metadata": {
    "id": "Tds4j7ycK_ML"
   },
   "outputs": [],
   "source": [
    "# Load the saved ndarray from the file\n",
    "loaded_arr = np.load('saved_array.npy')\n",
    "\n",
    "print(\"Loaded Array:\", loaded_arr)"
   ]
  },
  {
   "cell_type": "markdown",
   "metadata": {
    "id": "3HwR70KaK_MN"
   },
   "source": [
    "**8. Handling Missing Data:**"
   ]
  },
  {
   "cell_type": "markdown",
   "metadata": {
    "id": "lmCMY292K_MO"
   },
   "source": [
    "- `np.nan`: Represents a floating-point \"Not a Number\" value, often used to indicate missing or undefined data in arrays.\n",
    "\n",
    "https://numpy.org/doc/stable/reference/constants.html#numpy.nan"
   ]
  },
  {
   "cell_type": "code",
   "execution_count": null,
   "metadata": {
    "id": "nNn3C1a-K_MO"
   },
   "outputs": [],
   "source": [
    "# Create an array with NaN values\n",
    "arr_with_nan = np.array([1.0, np.nan, 3.0, np.nan, 5.0])"
   ]
  },
  {
   "cell_type": "markdown",
   "metadata": {
    "id": "OZbF8pAqK_MP"
   },
   "source": [
    "Practice Question : Create a NumPy array with a NaN (Not a Number) value."
   ]
  },
  {
   "cell_type": "markdown",
   "metadata": {
    "id": "ubVxWtCWK_MP"
   },
   "source": [
    "- `np.isnan`: Returns a boolean array indicating which elements of an array are NaN (Not a Number).\n",
    "\n",
    "\n",
    "https://numpy.org/doc/stable/reference/generated/numpy.isnan.html"
   ]
  },
  {
   "cell_type": "code",
   "execution_count": null,
   "metadata": {
    "id": "N4Um7v7LK_MP"
   },
   "outputs": [],
   "source": [
    "# Check for NaN values using np.isnan\n",
    "nan_mask = np.isnan(arr_with_nan)\n",
    "print(\"NaN Mask:\", nan_mask)"
   ]
  },
  {
   "cell_type": "markdown",
   "metadata": {
    "id": "NWRMdxjpK_MQ"
   },
   "source": [
    "Practice Question : Check for NaN values in a NumPy array.\n",
    "```python\n",
    "array = np.array([1, 2, np.nan, 4, 5])\n"
   ]
  },
  {
   "cell_type": "markdown",
   "metadata": {
    "id": "08eCPzUfK_MQ"
   },
   "source": [
    "- `np.where`: Returns the indices where a specified condition is met in an array, or returns values from two arrays based on a condition.\n",
    "\n",
    "https://numpy.org/doc/stable/reference/generated/numpy.where.html"
   ]
  },
  {
   "cell_type": "code",
   "execution_count": null,
   "metadata": {
    "id": "m8hMhdQKK_MR"
   },
   "outputs": [],
   "source": [
    "# Create an array with conditions\n",
    "condition = np.array([True, False, True, False, True])\n",
    "\n",
    "# Use np.where to get indices where the condition is True\n",
    "indices = np.where(condition)\n",
    "print(\"Indices where condition is True:\", indices)\n",
    "\n",
    "# Use np.where to get values based on a condition\n",
    "values = np.where(condition, arr_with_nan, 0)\n",
    "print(\"Values based on condition:\", values)"
   ]
  },
  {
   "cell_type": "markdown",
   "metadata": {
    "id": "HF4544T_K_MR"
   },
   "source": [
    "Practice Question : Find the indices of non-NaN values in a NumPy array.\n",
    "```python\n",
    "array = np.array([1, 2, np.nan, 4, 5])\n"
   ]
  },
  {
   "cell_type": "markdown",
   "metadata": {
    "id": "XcqGfYwNA07G"
   },
   "source": [
    "# ***Pandas***\n"
   ]
  },
  {
   "cell_type": "markdown",
   "metadata": {
    "id": "o-XgKjSABJKk"
   },
   "source": [
    "**1. DataFrame Creation:**"
   ]
  },
  {
   "cell_type": "markdown",
   "metadata": {
    "id": "cunn8bjYBUxc"
   },
   "source": [
    "**- `pd.DataFrame()`:** Creates a two-dimensional tabular data structure (DataFrame) in pandas, where data is organized in rows and columns. You can use it to manually structure and input data.\n",
    "\n",
    "https://pandas.pydata.org/pandas-docs/stable/reference/api/pandas.DataFrame.html"
   ]
  },
  {
   "cell_type": "code",
   "execution_count": null,
   "metadata": {
    "id": "SPvxv_srArUF"
   },
   "outputs": [],
   "source": [
    "import pandas as pd\n",
    "\n",
    "# Creating a DataFrame from a dictionary\n",
    "data = {'Name': ['Alice', 'Bob', 'Charlie'],\n",
    "        'Age': [25, 30, 28],\n",
    "        'City': ['New York', 'Los Angeles', 'Chicago']}\n",
    "\n",
    "df = pd.DataFrame(data)\n",
    "print(df)"
   ]
  },
  {
   "cell_type": "markdown",
   "metadata": {
    "id": "rYiA7nxgBpsv"
   },
   "source": [
    "-  `pd.read_csv()` Reads data from a CSV file and constructs a DataFrame in pandas. This function automatically infers column names and data types from the file's first row, treating it as a header.\n",
    "\n",
    "https://pandas.pydata.org/pandas-docs/stable/reference/api/pandas.read_csv.html\n"
   ]
  },
  {
   "cell_type": "code",
   "execution_count": null,
   "metadata": {
    "id": "m0DRm3BBBvG0"
   },
   "outputs": [],
   "source": [
    "df = pd.read_csv('File name')"
   ]
  },
  {
   "cell_type": "markdown",
   "metadata": {
    "id": "s58Ncd5AcYgj"
   },
   "source": [
    "- **Practice Question**"
   ]
  },
  {
   "cell_type": "code",
   "execution_count": null,
   "metadata": {
    "id": "UpAJQ0RvcsTo"
   },
   "outputs": [],
   "source": [
    "data = {\n",
    "    'Name': ['Alice', 'Bob', 'Charlie', 'David', 'Emily'],\n",
    "    'Age': [25, 30, 22, 28, 24],\n",
    "    'City': ['New York', 'Los Angeles', 'Chicago', 'Houston', 'Miami']\n",
    "}"
   ]
  },
  {
   "cell_type": "markdown",
   "metadata": {
    "id": "17txGnLsdFu4"
   },
   "source": [
    "Practice Question : Create a dataframe using above data"
   ]
  },
  {
   "cell_type": "markdown",
   "metadata": {
    "id": "Rv1jSjuTCha-"
   },
   "source": [
    "**2. Data Cleaning**"
   ]
  },
  {
   "cell_type": "code",
   "execution_count": null,
   "metadata": {
    "id": "HjN1NjBeE6Ap"
   },
   "outputs": [],
   "source": [
    "data = {'Product': ['A', 'B', 'C', 'D'],\n",
    "        'Sales': [100, None, 150, 200]}\n",
    "\n",
    "df = pd.DataFrame(data)"
   ]
  },
  {
   "cell_type": "code",
   "execution_count": null,
   "metadata": {
    "id": "RUDjppVIgGtI"
   },
   "outputs": [],
   "source": [
    "# Table Name - Student Grades\n",
    "\n",
    "dataset = {\n",
    "    'Name': ['Alice', 'Bob', 'Carol', 'David', 'Alice'],\n",
    "    'Math': [85, 70, 92, 64, 78],\n",
    "    'English': [90, 78, 88, 72, 85],\n",
    "    'Science': [88, 82, 95, 68, 80]\n",
    "}"
   ]
  },
  {
   "cell_type": "markdown",
   "metadata": {
    "id": "cvVaUMJwGnYs"
   },
   "source": [
    "* `df.rename()`: Renames columns or index labels of a DataFrame.\n",
    "\n",
    "https://pandas.pydata.org/pandas-docs/stable/reference/api/pandas.DataFrame.rename.html\n",
    "\n"
   ]
  },
  {
   "cell_type": "code",
   "execution_count": null,
   "metadata": {
    "id": "tluSeuIFF5_R"
   },
   "outputs": [],
   "source": [
    "# Rename columns\n",
    "df_renamed = df.rename(columns={'Product': 'Item', 'Sales': 'Revenue'})\n",
    "\n",
    "print(df_renamed)"
   ]
  },
  {
   "cell_type": "markdown",
   "metadata": {
    "id": "j17K-8YYiC47"
   },
   "source": [
    "**Practice Question :**\n",
    "Rename the columns of the \"Student Grades\" table to 'Student', 'Math Score', 'English Score', and 'Science Score'. Display the modified table."
   ]
  },
  {
   "cell_type": "markdown",
   "metadata": {
    "id": "GQ_7Muh1Gsbn"
   },
   "source": [
    "* `df.replace()`: Replaces specified values in a DataFrame with new values.\n",
    "\n",
    "https://pandas.pydata.org/pandas-docs/stable/reference/api/pandas.DataFrame.replace.html"
   ]
  },
  {
   "cell_type": "code",
   "execution_count": null,
   "metadata": {
    "id": "F8PGi5RiF58x"
   },
   "outputs": [],
   "source": [
    "# Replace missing values\n",
    "df_replaced = df.replace(None, 0)"
   ]
  },
  {
   "cell_type": "markdown",
   "metadata": {
    "id": "Y-SqsIr4i6D8"
   },
   "source": [
    "**Practice Question :**\n",
    "Replace all occurrences of 'Alice' with 'Alicia' in the 'Name' column. Display the modified table."
   ]
  },
  {
   "cell_type": "markdown",
   "metadata": {
    "id": "au3TzsBsh0MV"
   },
   "source": []
  },
  {
   "cell_type": "markdown",
   "metadata": {
    "id": "pXMaQKj0E_yF"
   },
   "source": [
    "* `df.dropna()`: Removes rows with missing values from a DataFrame.\n",
    "\n",
    "https://pandas.pydata.org/pandas-docs/stable/reference/api/pandas.DataFrame.dropna.html"
   ]
  },
  {
   "cell_type": "code",
   "execution_count": null,
   "metadata": {
    "id": "1oOvrLT-Fd6I"
   },
   "outputs": [],
   "source": [
    "# Drop rows with missing values\n",
    "df_dropped = df.dropna()"
   ]
  },
  {
   "cell_type": "markdown",
   "metadata": {
    "id": "oM-JIrWaGyiX"
   },
   "source": [
    "* `df.fillna()`: Fills missing values in a DataFrame with specified values or using specific methods.\n",
    "\n",
    "https://pandas.pydata.org/pandas-docs/stable/reference/api/pandas.DataFrame.fillna.html\n",
    "\n",
    "\n"
   ]
  },
  {
   "cell_type": "markdown",
   "metadata": {
    "id": "XzVPsN24jKjH"
   },
   "source": [
    "**Question 4:**\n",
    "Fill in the missing values in the 'Math' column with the average math score (rounded to the nearest whole number). Display the modified table.\n"
   ]
  },
  {
   "cell_type": "code",
   "execution_count": null,
   "metadata": {
    "id": "OM6EXYGNF56Z"
   },
   "outputs": [],
   "source": [
    "# Fill missing values with a specific value\n",
    "df_filled = df.fillna(0)"
   ]
  },
  {
   "cell_type": "markdown",
   "metadata": {
    "id": "BidYvJGFG2dC"
   },
   "source": [
    "* `df.drop_duplicates()`: Removes duplicate rows from a DataFrame.\n",
    "\n",
    "https://pandas.pydata.org/pandas-docs/stable/reference/api/pandas.DataFrame.drop_duplicates.html"
   ]
  },
  {
   "cell_type": "code",
   "execution_count": null,
   "metadata": {
    "id": "HJsoagi4F5xv"
   },
   "outputs": [],
   "source": [
    "# Drop duplicate rows\n",
    "df_duplicates_removed = df.drop_duplicates()"
   ]
  },
  {
   "cell_type": "markdown",
   "metadata": {
    "id": "7R_BBgvxheOk"
   },
   "source": [
    "**Practice Question :**\n",
    "Remove duplicate rows from the \"Student Grades\" table based on the student's name. Display the modified table."
   ]
  },
  {
   "cell_type": "markdown",
   "metadata": {
    "id": "REVYw0aEG7KO"
   },
   "source": [
    "* `df.astype()`: Converts the data type of one or more columns in a DataFrame.bold text\n",
    "\n",
    "https://pandas.pydata.org/pandas-docs/stable/reference/api/pandas.DataFrame.astype.html"
   ]
  },
  {
   "cell_type": "code",
   "execution_count": null,
   "metadata": {
    "id": "J1HTd96mF5ds"
   },
   "outputs": [],
   "source": [
    "# Convert 'Sales' column to float data type\n",
    "df_converted = df.astype({'Sales': float})"
   ]
  },
  {
   "cell_type": "markdown",
   "metadata": {
    "id": "3mjbCMjnHAJ-"
   },
   "source": [
    "- `df.isnull()`: Returns a DataFrame of the same shape as the input, with Boolean values indicating the presence of missing values.\n",
    "\n",
    "https://pandas.pydata.org/pandas-docs/stable/reference/api/pandas.DataFrame.isnull.html"
   ]
  },
  {
   "cell_type": "code",
   "execution_count": null,
   "metadata": {
    "id": "l9k2G7dCGNN_"
   },
   "outputs": [],
   "source": [
    "# Check for missing values\n",
    "missing_values_check = df.isnull()"
   ]
  },
  {
   "cell_type": "markdown",
   "metadata": {
    "id": "5Qy5-nH_gBc9"
   },
   "source": [
    "- **Practice questions**"
   ]
  },
  {
   "cell_type": "markdown",
   "metadata": {
    "id": "C64tgPdEgH72"
   },
   "source": [
    "\n",
    "\n",
    "\n",
    "\n",
    "\n",
    "\n",
    "\n",
    "**Question 5:**\n",
    "Create a new DataFrame that shows whether each cell in the \"Student Grades\" table is null (True) or not (False). Display the DataFrame.\n"
   ]
  },
  {
   "cell_type": "markdown",
   "metadata": {
    "id": "aUE4d_UiIdiu"
   },
   "source": [
    "**3. Data Manipulation**"
   ]
  },
  {
   "cell_type": "code",
   "execution_count": null,
   "metadata": {
    "id": "CIVIAQQ8phrs"
   },
   "outputs": [],
   "source": [
    "data = {'Name': ['Alice', 'Bob', 'Charlie'],\n",
    "        'Age': [22, 21, 23],\n",
    "        'Grade': ['A', 'B', 'B']}\n",
    "\n",
    "df = pd.DataFrame(data)"
   ]
  },
  {
   "cell_type": "code",
   "execution_count": null,
   "metadata": {
    "id": "XWyzUo-xkZ8a"
   },
   "outputs": [],
   "source": [
    "# Practice question table\n",
    "dataset = {\n",
    "    'Name': ['Alice', 'Bob', 'Carol', 'David', 'Emily'],\n",
    "    'Age': [25, 30, 22, 28, 24],\n",
    "    'City': ['New York', 'Los Angeles', 'Chicago', 'Houston', 'Miami']\n",
    "}\n"
   ]
  },
  {
   "cell_type": "markdown",
   "metadata": {
    "id": "1v-skVYCIj09"
   },
   "source": [
    "- `df.loc[]`: Allows you to access a group of rows and columns by labels or a boolean array along both axes.\n",
    "\n",
    "https://pandas.pydata.org/pandas-docs/stable/reference/api/pandas.DataFrame.loc.html"
   ]
  },
  {
   "cell_type": "code",
   "execution_count": null,
   "metadata": {
    "id": "dIVS7MqtpKIR"
   },
   "outputs": [],
   "source": [
    "# Using df.loc[] to access rows and columns by labels\n",
    "alice_data = df.loc[0]  # Access data for Alice\n",
    "grades = df.loc[:, 'Grade']  # Access 'Grade' column\n",
    "\n",
    "print(alice_data)\n",
    "\n",
    "print(grades)"
   ]
  },
  {
   "cell_type": "markdown",
   "metadata": {
    "id": "zJJFdg3vkr-J"
   },
   "source": [
    "Practice Question : select the rows where the 'Age' column is greater than 25 from the given practice table1."
   ]
  },
  {
   "cell_type": "markdown",
   "metadata": {
    "id": "YiDJDGajpLc_"
   },
   "source": [
    "- `df.iloc[]`: Provides integer-based indexing to access rows and columns of a DataFrame.\n",
    "\n",
    "https://pandas.pydata.org/pandas-docs/stable/reference/api/pandas.DataFrame.iloc.html"
   ]
  },
  {
   "cell_type": "code",
   "execution_count": null,
   "metadata": {
    "id": "wDBGFrlHpZ9G"
   },
   "outputs": [],
   "source": [
    "# Using df.iloc[] to access rows and columns by integer indexing\n",
    "first_row = df.iloc[0]  # Access the first row\n",
    "ages = df.iloc[:, 1]  # Access the 'Age' column\n",
    "\n",
    "print(first_row)\n",
    "print(ages)"
   ]
  },
  {
   "cell_type": "markdown",
   "metadata": {
    "id": "JDHl2cQpk_JA"
   },
   "source": [
    "Practice Question : select the data in the second row and third column from the given pracice table1."
   ]
  },
  {
   "cell_type": "markdown",
   "metadata": {
    "id": "_aEX5mqepPwW"
   },
   "source": [
    "- `df.apply()`: Applies a function along an axis of the DataFrame.\n",
    "\n",
    "https://pandas.pydata.org/pandas-docs/stable/reference/api/pandas.DataFrame.apply.html"
   ]
  },
  {
   "cell_type": "code",
   "execution_count": null,
   "metadata": {
    "id": "tZrleModpaq-"
   },
   "outputs": [],
   "source": [
    "# Using df.apply() to apply a function along an axis\n",
    "def add_years(age):\n",
    "    return age + 1\n",
    "\n",
    "df['Age_Plus_One'] = df['Age'].apply(add_years)  # Apply the function to 'Age' column\n",
    "\n",
    "print(df)"
   ]
  },
  {
   "cell_type": "markdown",
   "metadata": {
    "id": "cAn_bMYYlUNp"
   },
   "source": [
    "Practice Question : Calculate the total score (sum of Math, English, and Science) for each student in the given DataFrame.\n",
    "```python\n",
    "dataset = {\n",
    "    'Name': ['Alice', 'Bob', 'Carol', 'David', 'Emily'],\n",
    "    'Math': [85, 70, 92, 64, 78],\n",
    "    'English': [90, 78, 88, 72, 85],\n",
    "    'Science': [88, 82, 95, 68, 80]\n",
    "}\n"
   ]
  },
  {
   "cell_type": "markdown",
   "metadata": {
    "id": "CRNI0f1QpTny"
   },
   "source": [
    "\n",
    "- `df.map()`: Applies a function element-wise to the elements of a column or a Series.\n",
    "\n",
    "https://pandas.pydata.org/pandas-docs/stable/reference/api/pandas.DataFrame.map.html"
   ]
  },
  {
   "cell_type": "code",
   "execution_count": null,
   "metadata": {
    "id": "S_CECdFmpXxB"
   },
   "outputs": [],
   "source": [
    "# Using df.map() to apply a function element-wise to a Series\n",
    "grade_mapping = {'A': 'Excellent', 'B': 'Good'}\n",
    "df['Grade_Description'] = df['Grade'].map(grade_mapping)  # Map grades to descriptions\n",
    "\n",
    "print(df['Grade_Description'])"
   ]
  },
  {
   "cell_type": "markdown",
   "metadata": {
    "id": "ZT1K2MwZlmZA"
   },
   "source": [
    "Practice Question : Replace the city names with their corresponding city codes in the 'City' column of the given DataFrame.\n",
    "```python\n",
    "dataset = {\n",
    "    'Name': ['Alice', 'Bob', 'Carol', 'David', 'Emily'],\n",
    "    'Age': [25, 30, 22, 28, 24],\n",
    "    'City': ['New York', 'Los Angeles', 'Chicago', 'Houston', 'Miami']\n",
    "}\n"
   ]
  },
  {
   "cell_type": "markdown",
   "metadata": {
    "id": "CdfMONF2Co8X"
   },
   "source": [
    "**4. Sorting and Aggregating**"
   ]
  },
  {
   "cell_type": "code",
   "execution_count": null,
   "metadata": {
    "id": "-vtZQX-Ps1KM"
   },
   "outputs": [],
   "source": [
    "data = {'Product': ['A', 'B', 'A', 'B', 'A'],\n",
    "        'Sales': [100, 150, 200, 120, 180],\n",
    "        'Region': ['East', 'West', 'East', 'West', 'East']}\n",
    "\n",
    "df = pd.DataFrame(data)"
   ]
  },
  {
   "cell_type": "code",
   "execution_count": null,
   "metadata": {
    "id": "6KI4tvJemR5S"
   },
   "outputs": [],
   "source": [
    "# practice question table\n",
    "dataset = {\n",
    "    'Name': ['Alice', 'Bob', 'Carol', 'David', 'Emily'],\n",
    "    'Age': [25, 30, 22, 28, 24],\n",
    "    'City': ['New York', 'Los Angeles', 'Chicago', 'Houston', 'Miami']\n",
    "}\n"
   ]
  },
  {
   "cell_type": "markdown",
   "metadata": {
    "id": "NpBAHDavsXp3"
   },
   "source": [
    "- `df.sort_values()`: Sorts the DataFrame rows based on specified column(s) values.\n",
    "\n",
    "https://pandas.pydata.org/pandas-docs/stable/reference/api/pandas.DataFrame.sort_values.html"
   ]
  },
  {
   "cell_type": "code",
   "execution_count": null,
   "metadata": {
    "id": "3ceDBo6Wsx5m"
   },
   "outputs": [],
   "source": [
    "# Sort the DataFrame by 'Sales' in ascending order\n",
    "df_sorted = df.sort_values(by='Sales')\n",
    "\n",
    "print(df)"
   ]
  },
  {
   "cell_type": "markdown",
   "metadata": {
    "id": "72DTgzdlmaOd"
   },
   "source": [
    "Practice Question : Sort the DataFrame by the 'Age' column in ascending order."
   ]
  },
  {
   "cell_type": "markdown",
   "metadata": {
    "id": "UgHu8uxcsdhy"
   },
   "source": [
    "- `df.groupby()`: Groups the DataFrame rows based on unique values in one or more columns.\n",
    "\n",
    "https://pandas.pydata.org/pandas-docs/stable/reference/api/pandas.DataFrame.groupby.html"
   ]
  },
  {
   "cell_type": "code",
   "execution_count": null,
   "metadata": {
    "id": "ZfRWidlcsy5k"
   },
   "outputs": [],
   "source": [
    "# Group the DataFrame by 'Product'\n",
    "grouped = df.groupby('Product')"
   ]
  },
  {
   "cell_type": "markdown",
   "metadata": {
    "id": "8ZqorCg1m1Fi"
   },
   "source": [
    "Practice Question : Group the DataFrame by the 'City' column and calculate the mean age and maximum age for each city."
   ]
  },
  {
   "cell_type": "markdown",
   "metadata": {
    "id": "4cbS51VQshJO"
   },
   "source": [
    "- `group.agg()`: Performs aggregation operations on groups created using `groupby()`.\n",
    "\n",
    "https://pandas.pydata.org/pandas-docs/stable/reference/api/pandas.core.groupby.GroupBy.agg.html"
   ]
  },
  {
   "cell_type": "code",
   "execution_count": null,
   "metadata": {
    "id": "1WskCPORszqr"
   },
   "outputs": [],
   "source": [
    "# Aggregate sales data for each product group\n",
    "agg_results = grouped['Sales'].agg(['sum', 'mean'])\n",
    "\n",
    "print(agg_results)"
   ]
  },
  {
   "cell_type": "markdown",
   "metadata": {
    "id": "YdydzQjqsusC"
   },
   "source": [
    "- `df.reset_index()`: Resets the index of the DataFrame, optionally adding a new default index.\n",
    "\n",
    "https://pandas.pydata.org/pandas-docs/stable/reference/api/pandas.DataFrame.reset_index.html"
   ]
  },
  {
   "cell_type": "code",
   "execution_count": null,
   "metadata": {
    "id": "9L56ai9IsXGg"
   },
   "outputs": [],
   "source": [
    "# Reset the index of the grouped DataFrame\n",
    "agg_results_reset = agg_results.reset_index()"
   ]
  },
  {
   "cell_type": "markdown",
   "metadata": {
    "id": "qHwsShICm65q"
   },
   "source": [
    "Practice Question : Reset the index of the grouped DataFrame from Question 2 to the default index."
   ]
  },
  {
   "cell_type": "markdown",
   "metadata": {
    "id": "Ig8bW46mu8Od"
   },
   "source": [
    "**5. Data Visualization**"
   ]
  },
  {
   "cell_type": "code",
   "execution_count": null,
   "metadata": {
    "id": "5xT9vi8Hvgem"
   },
   "outputs": [],
   "source": [
    "import matplotlib.pyplot as plt\n",
    "import seaborn as sns\n",
    "\n",
    "data = {'Category': ['A', 'B', 'C', 'D', 'E'],\n",
    "        'Value': [10, 20, 15, 25, 30]}\n",
    "\n",
    "df = pd.DataFrame(data)\n"
   ]
  },
  {
   "cell_type": "markdown",
   "metadata": {
    "id": "suJQ8p7Ku_7d"
   },
   "source": [
    "- `df.plot()`: Creates various types of plots directly from a DataFrame using the `matplotlib` library.\n",
    "\n",
    "https://pandas.pydata.org/pandas-docs/stable/reference/api/pandas.DataFrame.plot.html"
   ]
  },
  {
   "cell_type": "code",
   "execution_count": null,
   "metadata": {
    "id": "GdR4RpHKvjed"
   },
   "outputs": [],
   "source": [
    "# Create a line plot using df.plot()\n",
    "df.plot(x='Category', y='Value', kind='line')\n",
    "plt.title('Line Plot')\n",
    "plt.show()"
   ]
  },
  {
   "cell_type": "markdown",
   "metadata": {
    "id": "L6hJ-PgIn3sX"
   },
   "source": [
    "**Practice Question :** Create a line plot of the 'Age' column against the 'Name' column from the given DataFrame.\n",
    "```python\n",
    "data = {\n",
    "    'Name': ['Alice', 'Bob', 'Carol', 'David', 'Emily'],\n",
    "    'Age': [25, 30, 22, 28, 24],\n",
    "}\n"
   ]
  },
  {
   "cell_type": "markdown",
   "metadata": {
    "id": "S7XTQTLuvEjV"
   },
   "source": [
    "- `plt.hist()`: Plots a histogram to visualize the distribution of data using `matplotlib`.\n",
    "\n",
    "https://matplotlib.org/stable/api/_as_gen/matplotlib.pyplot.hist.html"
   ]
  },
  {
   "cell_type": "code",
   "execution_count": null,
   "metadata": {
    "id": "42lXU1HYv0cp"
   },
   "outputs": [],
   "source": [
    "# Create a histogram using plt.hist()\n",
    "plt.hist(df['Value'], bins=3, edgecolor='black')\n",
    "plt.title('Histogram')\n",
    "plt.show()"
   ]
  },
  {
   "cell_type": "markdown",
   "metadata": {
    "id": "ke9UIY1EoDJD"
   },
   "source": [
    "**Practice Question :** Create a histogram of the 'Age' column from the given DataFrame .\n",
    "```python\n",
    "data = {\n",
    "    'Name': ['Alice', 'Bob', 'Carol', 'David', 'Emily'],\n",
    "    'Age': [25, 30, 22, 28, 24],\n",
    "}\n"
   ]
  },
  {
   "cell_type": "markdown",
   "metadata": {
    "id": "GhDGUv8RvIui"
   },
   "source": [
    "- `plt.boxplot()`: Generates a box plot to display the distribution and identify outliers using `matplotlib`.\n",
    "\n",
    "https://matplotlib.org/stable/api/_as_gen/matplotlib.pyplot.boxplot.html"
   ]
  },
  {
   "cell_type": "code",
   "execution_count": null,
   "metadata": {
    "id": "ObmEATAtv7X0"
   },
   "outputs": [],
   "source": [
    "# Create a box plot using plt.boxplot()\n",
    "plt.boxplot(df['Value'])\n",
    "plt.title('Box Plot')\n",
    "plt.show()"
   ]
  },
  {
   "cell_type": "markdown",
   "metadata": {
    "id": "01V0NsaCoKFu"
   },
   "source": [
    "**Practice Question :** Generate a box plot of the 'Age' column from the given DataFrame.\n",
    "```python\n",
    "data = {\n",
    "    'Name': ['Alice', 'Bob', 'Carol', 'David', 'Emily'],\n",
    "    'Age': [25, 30, 22, 28, 24],\n",
    "}\n"
   ]
  },
  {
   "cell_type": "markdown",
   "metadata": {
    "id": "OJfmlI51vNFZ"
   },
   "source": [
    "- `plt.bar()`: Creates a bar chart to compare categorical data using `matplotlib`.\n",
    "\n",
    "https://matplotlib.org/stable/api/_as_gen/matplotlib.pyplot.bar.html"
   ]
  },
  {
   "cell_type": "code",
   "execution_count": null,
   "metadata": {
    "id": "nNt69TMKwEAR"
   },
   "outputs": [],
   "source": [
    "# Create a bar chart using plt.bar()\n",
    "plt.bar(df['Category'], df['Value'])\n",
    "plt.title('Bar Chart')\n",
    "plt.show()"
   ]
  },
  {
   "cell_type": "markdown",
   "metadata": {
    "id": "8-g2vLNgoW4s"
   },
   "source": [
    "**Practice Question :** Create a bar plot of the 'Name' column against the 'Age' column using the given DataFrame.\n",
    "```python\n",
    "data = {\n",
    "    'Name': ['Alice', 'Bob', 'Carol', 'David', 'Emily'],\n",
    "    'Age': [25, 30, 22, 28, 24],\n",
    "}\n"
   ]
  },
  {
   "cell_type": "markdown",
   "metadata": {
    "id": "GXqLrxc9vQN7"
   },
   "source": [
    "- `plt.scatter()`: Produces a scatter plot to show the relationship between two numerical variables using `matplotlib`\n",
    "\n",
    "https://matplotlib.org/stable/api/_as_gen/matplotlib.pyplot.scatter.html"
   ]
  },
  {
   "cell_type": "code",
   "execution_count": null,
   "metadata": {
    "id": "sha4XYJbwKRu"
   },
   "outputs": [],
   "source": [
    "# Create a scatter plot using plt.scatter()\n",
    "plt.scatter(df['Category'], df['Value'])\n",
    "plt.title('Scatter Plot')\n",
    "plt.show()"
   ]
  },
  {
   "cell_type": "markdown",
   "metadata": {
    "id": "JgBOg58vozW3"
   },
   "source": [
    "Practice Question : Generate a scatter plot of the 'Math' column against the 'Science' column from the given DataFrame .\n",
    "```python\n",
    "data = {\n",
    "    'Name': ['Alice', 'Bob', 'Carol', 'David', 'Emily'],\n",
    "    'Math': [85, 70, 92, 64, 78],\n",
    "    'Science': [88, 82, 95, 68, 80]\n",
    "}\n"
   ]
  },
  {
   "cell_type": "markdown",
   "metadata": {
    "id": "j4mqmBv0vTNn"
   },
   "source": [
    "- `sns.barplot()`: Generates a bar plot using the `seaborn` library, often used for statistical estimation.\n",
    "\n",
    "https://seaborn.pydata.org/generated/seaborn.barplot.html"
   ]
  },
  {
   "cell_type": "code",
   "execution_count": null,
   "metadata": {
    "id": "e1nsy15PwRRw"
   },
   "outputs": [],
   "source": [
    "# Create a bar plot using sns.barplot()\n",
    "sns.barplot(x='Category', y='Value', data=df)\n",
    "plt.title('Seaborn Bar Plot')\n",
    "plt.show()"
   ]
  },
  {
   "cell_type": "markdown",
   "metadata": {
    "id": "QYAEakP0o9qo"
   },
   "source": [
    "Practice Question : Use Seaborn's `sns.barplot()` to create a bar plot of the average 'Age' for each 'Name' from the given DataFrame.\n",
    "```python\n",
    "data = {\n",
    "    'Name': ['Alice', 'Bob', 'Carol', 'David', 'Emily'],\n",
    "    'Age': [25, 30, 22, 28, 24],\n",
    "}\n"
   ]
  },
  {
   "cell_type": "markdown",
   "metadata": {
    "id": "PrP3xwmZvV7R"
   },
   "source": [
    "- `sns.lineplot()`: Creates a line plot using the `seaborn` library to visualize trends or relationships in data.\n",
    "\n",
    "https://seaborn.pydata.org/generated/seaborn.lineplot.html"
   ]
  },
  {
   "cell_type": "code",
   "execution_count": null,
   "metadata": {
    "id": "aAutTyq9vbJg"
   },
   "outputs": [],
   "source": [
    "# Create a line plot using sns.lineplot()\n",
    "sns.lineplot(x='Category', y='Value', data=df)\n",
    "plt.title('Seaborn Line Plot')\n",
    "plt.show()"
   ]
  },
  {
   "cell_type": "markdown",
   "metadata": {
    "id": "CB9DVKGYpH_m"
   },
   "source": [
    "Practice Question : Generate a line plot of the 'Age' column against the 'Name' column  from the given DataFrame.\n",
    "```python\n",
    "data = {\n",
    "    'Name': ['Alice', 'Bob', 'Carol', 'David', 'Emily'],\n",
    "    'Age': [25, 30, 22, 28, 24],\n",
    "}\n"
   ]
  },
  {
   "cell_type": "markdown",
   "metadata": {
    "id": "jZdulwiP15Jo"
   },
   "source": [
    "**6. Data Transformation**"
   ]
  },
  {
   "cell_type": "code",
   "execution_count": null,
   "metadata": {
    "id": "3sOo6-532q2C"
   },
   "outputs": [],
   "source": [
    "data = {'Product': ['A', 'A', 'B', 'B'],\n",
    "        'Region': ['East', 'West', 'East', 'West'],\n",
    "        'Sales': [100, 150, 200, 120]}\n",
    "\n",
    "df = pd.DataFrame(data)"
   ]
  },
  {
   "cell_type": "markdown",
   "metadata": {
    "id": "VbYZ2sTg2Ppq"
   },
   "source": [
    "- `pd.pivot_table()`: Creates a pivot table from a DataFrame, allowing you to summarize and aggregate data based on multiple dimensions.\n",
    "\n",
    "https://pandas.pydata.org/pandas-docs/stable/reference/api/pandas.pivot_table.html"
   ]
  },
  {
   "cell_type": "code",
   "execution_count": null,
   "metadata": {
    "id": "RcAFmyHA2jnA"
   },
   "outputs": [],
   "source": [
    "# Create a pivot table to summarize sales by product and region\n",
    "pivot_table = pd.pivot_table(df, values='Sales', index='Product', columns='Region', aggfunc='sum')\n",
    "\n",
    "print(\"Pivot Table:\")\n",
    "print(pivot_table)"
   ]
  },
  {
   "cell_type": "markdown",
   "metadata": {
    "id": "MKwVRTpSpkOx"
   },
   "source": [
    "Practice Question : Create a pivot table from the given DataFrame that shows the average 'Score' for each 'Subject' and 'Student'.\n",
    "```python\n",
    "data = {\n",
    "    'Student': ['Alice', 'Bob', 'Alice', 'Bob', 'Alice', 'Bob'],\n",
    "    'Subject': ['Math', 'Math', 'English', 'English', 'Science', 'Science'],\n",
    "    'Score': [85, 70, 90, 78, 88, 82]\n",
    "}\n"
   ]
  },
  {
   "cell_type": "markdown",
   "metadata": {
    "id": "BqJklrSRpkHb"
   },
   "source": []
  },
  {
   "cell_type": "markdown",
   "metadata": {
    "id": "9h37T3HJ2RTu"
   },
   "source": [
    "- `df.stack()`: Reshapes the DataFrame by \"stacking\" the columns to create a multi-level index.\n",
    "\n",
    "https://pandas.pydata.org/pandas-docs/stable/reference/api/pandas.DataFrame.stack.html"
   ]
  },
  {
   "cell_type": "code",
   "execution_count": null,
   "metadata": {
    "id": "sieG2l852kRC"
   },
   "outputs": [],
   "source": [
    "# Stack the DataFrame to create a multi-level index\n",
    "stacked_df = df.set_index(['Product', 'Region']).stack()\n",
    "\n",
    "print(\"\\nStacked DataFrame:\")\n",
    "print(stacked_df)"
   ]
  },
  {
   "cell_type": "markdown",
   "metadata": {
    "id": "tNG1cEfipwHs"
   },
   "source": [
    "Practice Question : Transform the given DataFrame into a stacked format.\n",
    "```python\n",
    "data = {\n",
    "    'Student': ['Alice', 'Bob'],\n",
    "    'Math': [85, 70],\n",
    "    'English': [90, 78],\n",
    "    'Science': [88, 82]\n",
    "}\n"
   ]
  },
  {
   "cell_type": "code",
   "execution_count": null,
   "metadata": {
    "id": "FE6Dl4RXpvpU"
   },
   "outputs": [],
   "source": []
  },
  {
   "cell_type": "markdown",
   "metadata": {
    "id": "M1ZUehOj2VSc"
   },
   "source": [
    "- `df.unstack()`: Reshapes a multi-level index DataFrame by \"unstacking\" one level of the index to create columns.\n",
    "\n",
    "https://pandas.pydata.org/pandas-docs/stable/reference/api/pandas.DataFrame.unstack.html"
   ]
  },
  {
   "cell_type": "code",
   "execution_count": null,
   "metadata": {
    "id": "vsYLqaEM2lCw"
   },
   "outputs": [],
   "source": [
    "# Unstack the DataFrame to reshape it back\n",
    "unstacked_df = stacked_df.unstack()\n",
    "\n",
    "print(\"\\nUnstacked DataFrame:\")\n",
    "print(unstacked_df)"
   ]
  },
  {
   "cell_type": "markdown",
   "metadata": {
    "id": "Jo2k9oKNp8EY"
   },
   "source": [
    "Practice Question : Unstack the 'Subject' index level of the pivot table from Question 1.\n",
    "```python\n",
    "data = {\n",
    "    'Student': ['Alice', 'Bob'],\n",
    "    'Math': [85, 70],\n",
    "    'English': [90, 78],\n",
    "    'Science': [88, 82]\n",
    "}\n"
   ]
  },
  {
   "cell_type": "markdown",
   "metadata": {
    "id": "y1ofKsuO2EaY"
   },
   "source": [
    "**7. Handling DateTime Data**"
   ]
  },
  {
   "cell_type": "code",
   "execution_count": null,
   "metadata": {
    "id": "JYSzQR6p2pdk"
   },
   "outputs": [],
   "source": [
    "import pandas as pd\n",
    "\n",
    "data = {'Date': ['2023-01-15', '2023-03-20', '2023-06-10']}\n",
    "df = pd.DataFrame(data)"
   ]
  },
  {
   "cell_type": "markdown",
   "metadata": {
    "id": "QzZnzjR62MWw"
   },
   "source": [
    "- `pd.to_datetime()`: Converts a column or array of date-like values into datetime objects.\n",
    "\n",
    "https://pandas.pydata.org/pandas-docs/stable/reference/api/pandas.to_datetime.html"
   ]
  },
  {
   "cell_type": "code",
   "execution_count": null,
   "metadata": {
    "id": "MYvzXg7f2izV"
   },
   "outputs": [],
   "source": [
    "# Convert the 'Date' column to datetime objects\n",
    "df['Date'] = pd.to_datetime(df['Date'])\n",
    "\n",
    "print(df['Date'])"
   ]
  },
  {
   "cell_type": "markdown",
   "metadata": {
    "id": "wwdLtf-RqYBl"
   },
   "source": [
    "Practice Question : Convert the 'Date' column in the given DataFrame to datetime format .\n",
    "```python\n",
    "data = {\n",
    "    'Name': ['Alice', 'Bob', 'Carol'],\n",
    "    'Date': ['2022-03-15', '2021-09-10', '2023-01-25']\n",
    "}\n"
   ]
  },
  {
   "cell_type": "markdown",
   "metadata": {
    "id": "FBu7Wzf22aTg"
   },
   "source": [
    "- `df.dt.year`: Extracts the year component from a datetime-like column in a DataFrame.\n",
    "\n",
    "https://pandas.pydata.org/pandas-docs/stable/reference/api/pandas.Series.dt.year.html"
   ]
  },
  {
   "cell_type": "code",
   "execution_count": null,
   "metadata": {
    "id": "cYc5uxiw2h24"
   },
   "outputs": [],
   "source": [
    "# Extract the year components\n",
    "df['Year'] = df['Date'].dt.year\n",
    "\n",
    "print(df['Year'])"
   ]
  },
  {
   "cell_type": "markdown",
   "metadata": {
    "id": "ATBI-H5PqcvW"
   },
   "source": [
    "Practice Question : Extract the year from the 'Date' column in the given DataFrame .\n",
    "```python\n",
    "data = {\n",
    "    'Name': ['Alice', 'Bob', 'Carol'],\n",
    "    'Date': ['2022-03-15', '2021-09-10', '2023-01-25']\n",
    "}\n"
   ]
  },
  {
   "cell_type": "markdown",
   "metadata": {
    "id": "MYW8m7us2eAk"
   },
   "source": [
    "- `df.dt.month`: Extracts the month component from a datetime-like column in a DataFrame.\n",
    "\n",
    "https://pandas.pydata.org/pandas-docs/stable/reference/api/pandas.Series.dt.month.html"
   ]
  },
  {
   "cell_type": "code",
   "execution_count": null,
   "metadata": {
    "id": "81a0WF682g3s"
   },
   "outputs": [],
   "source": [
    "# Extract the  month components\n",
    "\n",
    "df['Month'] = df['Date'].dt.month\n",
    "\n",
    "print(df['Month'])"
   ]
  },
  {
   "cell_type": "markdown",
   "metadata": {
    "id": "tJ4whE63qvgb"
   },
   "source": [
    "Practice Question : Extract the month from the 'Date' column in the given DataFrame .\n",
    "```python\n",
    "data = {\n",
    "    'Name': ['Alice', 'Bob', 'Carol'],\n",
    "    'Date': ['2022-03-15', '2021-09-10', '2023-01-25']\n",
    "}\n"
   ]
  },
  {
   "cell_type": "markdown",
   "metadata": {
    "id": "9kco2qB33DPN"
   },
   "source": [
    "**8. Merging Data**"
   ]
  },
  {
   "cell_type": "markdown",
   "metadata": {
    "id": "CJ8UDiLZ3OFG"
   },
   "source": [
    "- `pd.merge()`: Combines two or more DataFrames based on common columns or indices using various types of joins, similar to SQL join operations.\n",
    "\n",
    "https://pandas.pydata.org/pandas-docs/stable/reference/api/pandas.merge.html"
   ]
  },
  {
   "cell_type": "code",
   "execution_count": null,
   "metadata": {
    "id": "PEFwDr5V3W5_"
   },
   "outputs": [],
   "source": [
    "data1 = {'ID': [1, 2, 3],\n",
    "         'Name': ['Alice', 'Bob', 'Charlie']}\n",
    "df1 = pd.DataFrame(data1)\n",
    "\n",
    "data2 = {'ID': [1, 2, 4],\n",
    "         'Age': [25, 30, 28]}\n",
    "df2 = pd.DataFrame(data2)\n",
    "\n",
    "# Merge the DataFrames based on the 'ID' column using an inner join\n",
    "merged_df = pd.merge(df1, df2, on='ID', how='inner')\n",
    "\n",
    "print(merged_df)\n"
   ]
  },
  {
   "cell_type": "markdown",
   "metadata": {
    "id": "9sV058ZzrQ2I"
   },
   "source": [
    "Practice Question : Perform an inner merge between the two given DataFrames ('left_df' and 'right_df') on the 'ID' column.\n",
    "```python\n",
    "left_data = {\n",
    "    'ID': [1, 2, 3],\n",
    "    'Name': ['Alice', 'Bob', 'Carol']\n",
    "}\n",
    "\n",
    "right_data = {\n",
    "    'ID': [2, 3, 4],\n",
    "    'Age': [25, 30, 22]\n",
    "}\n"
   ]
  },
  {
   "cell_type": "markdown",
   "metadata": {
    "id": "gIOsF9MX4v4p"
   },
   "source": [
    "**9. Handling Large Datasets**"
   ]
  },
  {
   "cell_type": "markdown",
   "metadata": {
    "id": "hlgwTIy640ZB"
   },
   "source": [
    "- `pd.concat()`: Concatenates (joins) multiple DataFrames along a specified axis, either row-wise or column-wise, allowing you to combine data from different sources or manipulate dataframes together.\n",
    "\n",
    "https://pandas.pydata.org/pandas-docs/stable/reference/api/pandas.concat.html"
   ]
  },
  {
   "cell_type": "code",
   "execution_count": null,
   "metadata": {
    "id": "eXnkDFJF4_Kx"
   },
   "outputs": [],
   "source": [
    "data1 = {'ID': [1, 2, 3],\n",
    "         'Name': ['Alice', 'Bob', 'Charlie']}\n",
    "df1 = pd.DataFrame(data1)\n",
    "\n",
    "data2 = {'ID': [4, 5, 6],\n",
    "         'Name': ['David', 'Eve', 'Frank']}\n",
    "df2 = pd.DataFrame(data2)\n",
    "\n",
    "# Concatenate the DataFrames row-wise\n",
    "concatenated_df = pd.concat([df1, df2], ignore_index=True)\n",
    "\n",
    "print(concatenated_df)\n"
   ]
  },
  {
   "cell_type": "markdown",
   "metadata": {
    "id": "vBFodTUZrV9B"
   },
   "source": [
    "Practice Question : Concatenate the two given DataFrames ('df1' and 'df2') vertically.\n",
    "```python\n",
    "data1 = {\n",
    "    'Name': ['Alice', 'Bob', 'Carol'],\n",
    "    'Age': [25, 30, 22]\n",
    "}\n",
    "\n",
    "data2 = {\n",
    "    'Name': ['David', 'Emily'],\n",
    "    'Age': [28, 24]\n",
    "}\n"
   ]
  }
 ],
 "metadata": {
  "colab": {
   "provenance": []
  },
  "kernelspec": {
   "display_name": "Python 3 (ipykernel)",
   "language": "python",
   "name": "python3"
  },
  "language_info": {
   "codemirror_mode": {
    "name": "ipython",
    "version": 3
   },
   "file_extension": ".py",
   "mimetype": "text/x-python",
   "name": "python",
   "nbconvert_exporter": "python",
   "pygments_lexer": "ipython3",
   "version": "3.10.9"
  }
 },
 "nbformat": 4,
 "nbformat_minor": 4
}
